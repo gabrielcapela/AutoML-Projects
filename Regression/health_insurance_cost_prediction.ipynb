{
 "cells": [
  {
   "cell_type": "markdown",
   "metadata": {},
   "source": [
    "---\n",
    "\n",
    "\n",
    "<img width=25% src=\"https://raw.githubusercontent.com/gabrielcapela/Credit-Card-Fraud-Detection-/main/images/myself.png\" align=right>\n",
    "\n",
    "# **Health Insurance Cost Prediction Project**\n",
    "\n",
    "*by Gabriel Capela*\n",
    "\n",
    "[<img src=\"https://img.shields.io/badge/LinkedIn-0077B5?style=for-the-badge&logo=linkedin&logoColor=white\"/>](https://www.linkedin.com/in/gabrielcapela)\n",
    "[<img src=\"https://img.shields.io/badge/Medium-12100E?style=for-the-badge&logo=medium&logoColor=white\" />](https://medium.com/@gabrielcapela)\n",
    "\n",
    "---\n",
    "\n",
    "**Health insurance** is a contract that covers medical expenses in exchange for an annual fee. It protects you from unexpected medical costs and offers many other benefits.\n",
    "\n",
    "This project will consist of using individual customer information (age, BMI, whether they are a smoker, etc.) and the annual cost of their health insurance to obtain a model that can indicate an optimal price for health insurance, given the individual's data. For this, several **supervised machine learning models** will be tested, the one that obtains the lowest error rates will be selected and will go through the finetuning process, in order to improve its prediction.\n",
    "<p align=\"center\">\n",
    "<img width=50% src=\"https://github.com/gabrielcapela/AutoML-Projects/blob/main/Regression/images/national-cancer-institute-NFvdKIhxYlU-unsplash.jpg?raw=true\">\n",
    "</p>\n",
    "\n",
    "The purpose of this project is to apply **Automated Machine Learning**, in order to demonstrate the practicality of this type of tool. The data used was taken from [Kaggle](https://www.kaggle.com/datasets/annetxu/health-insurance-cost-prediction/data)."
   ]
  },
  {
   "cell_type": "markdown",
   "metadata": {},
   "source": [
    "# Business Understanding "
   ]
  },
  {
   "cell_type": "markdown",
   "metadata": {},
   "source": [
    "In the health insurance sector, pricing plans is a **critical challenge** for insurers. The cost of health insurance varies according to several factors, such as age, medical history, lifestyle habits and demographic characteristics of policyholders. Inadequate pricing can lead to financial losses for the company or uncompetitive prices, impacting customer retention and acquisition.\n",
    "\n",
    "This project seeks to develop a Machine Learning model capable of **accurately predicting health insurance cost**s based on individual characteristics of policyholders. Automating this process, using **AutoML**, allows us to identify hidden patterns in the data and optimize pricing efficiently, reducing errors and increasing transparency in decisions.\n",
    "\n",
    "The main objectives of this study are:\n",
    "*   Improving cost predictability – Creating a model capable of estimating insurance costs with a high degree of accuracy.\n",
    "\n",
    "*   Supporting decision-making – Helping insurers define fairer and more sustainable prices.\n",
    "\n",
    "*   Exploring the influence of risk factors – Identifying which variables have the most significant impact on insurance costs.\n",
    "\n",
    "With this data-driven approach, it is expected to not only improve the efficiency of the sector, but also offer customers prices that are more appropriate to their risk profile."
   ]
  },
  {
   "cell_type": "markdown",
   "metadata": {},
   "source": [
    "# Data Understanding"
   ]
  },
  {
   "cell_type": "markdown",
   "metadata": {},
   "source": [
    "The dataset used can be downloaded from this [page](https://github.com/gabrielcapela/AutoML-Projects/blob/main/Regression/insurance.csv)"
   ]
  },
  {
   "cell_type": "markdown",
   "metadata": {},
   "source": [
    "## Obtaining and Summary Analysis of Data"
   ]
  },
  {
   "cell_type": "markdown",
   "metadata": {},
   "source": [
    "Let's start by importing the data and previewing the first few rows to illustrate the meaning of each column:"
   ]
  },
  {
   "cell_type": "code",
   "execution_count": 44,
   "metadata": {},
   "outputs": [],
   "source": [
    "# Importing the necessary packages\n",
    "import pandas as pd\n",
    "import numpy as np\n",
    "import matplotlib.pyplot as plt\n",
    "import seaborn as sns"
   ]
  },
  {
   "cell_type": "code",
   "execution_count": 79,
   "metadata": {},
   "outputs": [
    {
     "name": "stdout",
     "output_type": "stream",
     "text": [
      "The data has 1338 rows and 7 variables\n"
     ]
    },
    {
     "data": {
      "text/html": [
       "<div>\n",
       "<style scoped>\n",
       "    .dataframe tbody tr th:only-of-type {\n",
       "        vertical-align: middle;\n",
       "    }\n",
       "\n",
       "    .dataframe tbody tr th {\n",
       "        vertical-align: top;\n",
       "    }\n",
       "\n",
       "    .dataframe thead th {\n",
       "        text-align: right;\n",
       "    }\n",
       "</style>\n",
       "<table border=\"1\" class=\"dataframe\">\n",
       "  <thead>\n",
       "    <tr style=\"text-align: right;\">\n",
       "      <th></th>\n",
       "      <th>age</th>\n",
       "      <th>sex</th>\n",
       "      <th>bmi</th>\n",
       "      <th>children</th>\n",
       "      <th>smoker</th>\n",
       "      <th>region</th>\n",
       "      <th>charges</th>\n",
       "    </tr>\n",
       "  </thead>\n",
       "  <tbody>\n",
       "    <tr>\n",
       "      <th>0</th>\n",
       "      <td>19</td>\n",
       "      <td>female</td>\n",
       "      <td>27.900</td>\n",
       "      <td>0</td>\n",
       "      <td>yes</td>\n",
       "      <td>southwest</td>\n",
       "      <td>16884.92400</td>\n",
       "    </tr>\n",
       "    <tr>\n",
       "      <th>1</th>\n",
       "      <td>18</td>\n",
       "      <td>male</td>\n",
       "      <td>33.770</td>\n",
       "      <td>1</td>\n",
       "      <td>no</td>\n",
       "      <td>southeast</td>\n",
       "      <td>1725.55230</td>\n",
       "    </tr>\n",
       "    <tr>\n",
       "      <th>2</th>\n",
       "      <td>28</td>\n",
       "      <td>male</td>\n",
       "      <td>33.000</td>\n",
       "      <td>3</td>\n",
       "      <td>no</td>\n",
       "      <td>southeast</td>\n",
       "      <td>4449.46200</td>\n",
       "    </tr>\n",
       "    <tr>\n",
       "      <th>3</th>\n",
       "      <td>33</td>\n",
       "      <td>male</td>\n",
       "      <td>22.705</td>\n",
       "      <td>0</td>\n",
       "      <td>no</td>\n",
       "      <td>northwest</td>\n",
       "      <td>21984.47061</td>\n",
       "    </tr>\n",
       "    <tr>\n",
       "      <th>4</th>\n",
       "      <td>32</td>\n",
       "      <td>male</td>\n",
       "      <td>28.880</td>\n",
       "      <td>0</td>\n",
       "      <td>no</td>\n",
       "      <td>northwest</td>\n",
       "      <td>3866.85520</td>\n",
       "    </tr>\n",
       "  </tbody>\n",
       "</table>\n",
       "</div>"
      ],
      "text/plain": [
       "   age     sex     bmi  children smoker     region      charges\n",
       "0   19  female  27.900         0    yes  southwest  16884.92400\n",
       "1   18    male  33.770         1     no  southeast   1725.55230\n",
       "2   28    male  33.000         3     no  southeast   4449.46200\n",
       "3   33    male  22.705         0     no  northwest  21984.47061\n",
       "4   32    male  28.880         0     no  northwest   3866.85520"
      ]
     },
     "execution_count": 79,
     "metadata": {},
     "output_type": "execute_result"
    }
   ],
   "source": [
    "# Importing the dataset\n",
    "df = pd.read_csv('https://raw.githubusercontent.com/gabrielcapela/AutoML-Projects/refs/heads/main/Regression/insurance.csv')\n",
    "#Showing the first 5 lines\n",
    "print(f\"The data has {df.shape[0]} rows and {df.shape[1]} variables\")\n",
    "df.head()"
   ]
  },
  {
   "cell_type": "markdown",
   "metadata": {},
   "source": [
    "Below is the meaning of each variable:\n",
    "\n",
    "* **age**: The age of the insured individual in years.\n",
    "\n",
    "* **sex**: The gender of the insured individual (male or female).\n",
    "\n",
    "* **bmi**: Body Mass Index (BMI), a measure of weight relative to height.\n",
    "\n",
    "* **children**: The number of children covered by the insurance.\n",
    "\n",
    "* **smoker**: Indicates whether the insured individual is a smoker (yes or no).\n",
    "\n",
    "* **region**: The geographic region where the insured individual resides.\n",
    "\n",
    "* **charges**: The total annual health insurance cost (in dollars) for the individual, which is the target variable in this regression model."
   ]
  },
  {
   "cell_type": "markdown",
   "metadata": {},
   "source": [
    "## Pandas Profiling"
   ]
  },
  {
   "cell_type": "markdown",
   "metadata": {},
   "source": [
    "In line with the AutoML philosophy, I will be using **Pandas Profilin**g in the Data Understanding phase of my project. Pandas Profiling **automates the generation of comprehensive Exploratory Data Analysis (EDA) reports**, allowing me to quickly and in-depth understand the dataset, summarizing important statistics, identifying missing values, detecting correlations, and visualizing distributions. The goal of this tool is to **increase productivity and reduce manual effort**, allowing me to focus on interpreting the results instead of performing repetitive EDA tasks."
   ]
  },
  {
   "cell_type": "code",
   "execution_count": 43,
   "metadata": {},
   "outputs": [
    {
     "data": {
      "application/vnd.jupyter.widget-view+json": {
       "model_id": "57526ff8bf5b435da8accdb9c30c260f",
       "version_major": 2,
       "version_minor": 0
      },
      "text/plain": [
       "Summarize dataset:   0%|          | 0/5 [00:00<?, ?it/s]"
      ]
     },
     "metadata": {},
     "output_type": "display_data"
    },
    {
     "data": {
      "application/vnd.jupyter.widget-view+json": {
       "model_id": "e6e37f3c4222416fa1336347a099c4b1",
       "version_major": 2,
       "version_minor": 0
      },
      "text/plain": [
       "Generate report structure:   0%|          | 0/1 [00:00<?, ?it/s]"
      ]
     },
     "metadata": {},
     "output_type": "display_data"
    },
    {
     "data": {
      "application/vnd.jupyter.widget-view+json": {
       "model_id": "eca3baaf284044aa8876955ec6cd49fe",
       "version_major": 2,
       "version_minor": 0
      },
      "text/plain": [
       "Render HTML:   0%|          | 0/1 [00:00<?, ?it/s]"
      ]
     },
     "metadata": {},
     "output_type": "display_data"
    },
    {
     "data": {
      "application/vnd.jupyter.widget-view+json": {
       "model_id": "5ab775b4bbb84b379c7bcb25fbc2c86f",
       "version_major": 2,
       "version_minor": 0
      },
      "text/plain": [
       "Export report to file:   0%|          | 0/1 [00:00<?, ?it/s]"
      ]
     },
     "metadata": {},
     "output_type": "display_data"
    }
   ],
   "source": [
    "#Importing the required package\n",
    "from ydata_profiling import ProfileReport\n",
    "\n",
    "#Generating the report using Pandas Profiling\n",
    "profile = ProfileReport(df, explorative=True)\n",
    "\n",
    "# Saving the report as an HTML file\n",
    "profile.to_file(\"insurance_report.html\")\n",
    "\n",
    "# Displaying the report inside a Jupyter Notebook (this doesn't appear on github)\n",
    "#profile.to_notebook_iframe()"
   ]
  },
  {
   "cell_type": "markdown",
   "metadata": {},
   "source": [
    "Click [**HERE**](https://gabrielcapela.github.io/health_insurance_cost_prediction/insurance_report.html) to see the report"
   ]
  },
  {
   "cell_type": "markdown",
   "metadata": {},
   "source": [
    "**Some observations** can already be made:\n",
    "\n",
    "*   The variables **sex**, **smoker** and **region** are categorical, the first two being binary and **region** having four different classes\n",
    "\n",
    "*   **Charges** is highly overall correlated with **age** and **smoker** \n",
    "\n",
    "*   **Children** has 574 (42.9%) zeros, but they are not missing values, they are just people without children.\n",
    "\n",
    "*   The **Smoker** variable has unbalanced data, around only 20% of the data are positive (smoker)."
   ]
  },
  {
   "cell_type": "markdown",
   "metadata": {},
   "source": [
    "# Data Preparation"
   ]
  },
  {
   "cell_type": "markdown",
   "metadata": {},
   "source": [
    "## About PyCaret"
   ]
  },
  {
   "cell_type": "markdown",
   "metadata": {},
   "source": [
    "**PyCaret** is a Python AutoML library that simplifies the process of building, testing, and optimizing machine learning models. It automates tasks such as model selection, hyperparameter tuning, and performance evaluation, making the workflow faster and more accessible.\n",
    "\n",
    "For more details, visit [PyCaret](https://pycaret.org)."
   ]
  },
  {
   "cell_type": "markdown",
   "metadata": {},
   "source": [
    "PyCaret already performs several steps of **data preprocessing automatically**, such as missing value treatment, categorical variable encoding, feature scaling, and outlier detection. Manual preprocessing can sometimes lead to better results, but we will stick to PyCaret’s built-in capabilities to **evaluate the efficiency of AutoM**L."
   ]
  },
  {
   "cell_type": "markdown",
   "metadata": {},
   "source": [
    "## Division of data"
   ]
  },
  {
   "cell_type": "markdown",
   "metadata": {},
   "source": [
    "Although PyCaret already automatically splits the data into training and testing data within the setup() function, choosing to **pre-separate a training set before** delivering it to AutoML can bring important benefits to the reliability and robustness of the model evaluation. One of the benefits, for example, is avoiding data leakage – If the model is optimized based on PyCaret's internal test set, it can indirectly \"learn\" patterns that it would not have in a real application.\n",
    "Having an external set for final validation – This allows a more realistic evaluation of the model's performance before putting it into production."
   ]
  },
  {
   "cell_type": "code",
   "execution_count": 80,
   "metadata": {},
   "outputs": [
    {
     "name": "stdout",
     "output_type": "stream",
     "text": [
      "(268, 7)\n",
      "(1070, 7)\n"
     ]
    }
   ],
   "source": [
    "# Separating data into test and training\n",
    "test = df.sample(frac=0.20)\n",
    "train = df.drop(test.index)\n",
    "\n",
    "test.reset_index(inplace=True, drop=True)\n",
    "train.reset_index(inplace=True, drop=True)\n",
    "\n",
    "print(test.shape)\n",
    "print(train.shape)"
   ]
  },
  {
   "cell_type": "markdown",
   "metadata": {},
   "source": [
    "# Modeling"
   ]
  },
  {
   "cell_type": "code",
   "execution_count": 47,
   "metadata": {},
   "outputs": [],
   "source": [
    "# Importing the necessary packages\n",
    "from pycaret.regression import setup, compare_models, models, create_model, predict_model\n",
    "from pycaret.regression import tune_model, plot_model, evaluate_model, finalize_model\n",
    "from pycaret.regression import save_model, load_model"
   ]
  },
  {
   "cell_type": "markdown",
   "metadata": {},
   "source": [
    "## Defining the setup"
   ]
  },
  {
   "cell_type": "markdown",
   "metadata": {},
   "source": [
    "PyCaret's setup() is the main function for initializing a machine learning experiment. It prepares the data, sets up the pipeline configuration, and applies preprocessing automatically."
   ]
  },
  {
   "cell_type": "code",
   "execution_count": null,
   "metadata": {},
   "outputs": [
    {
     "data": {
      "text/html": [
       "<style type=\"text/css\">\n",
       "#T_6db2a_row9_col1 {\n",
       "  background-color: lightgreen;\n",
       "}\n",
       "</style>\n",
       "<table id=\"T_6db2a\">\n",
       "  <thead>\n",
       "    <tr>\n",
       "      <th class=\"blank level0\" >&nbsp;</th>\n",
       "      <th id=\"T_6db2a_level0_col0\" class=\"col_heading level0 col0\" >Description</th>\n",
       "      <th id=\"T_6db2a_level0_col1\" class=\"col_heading level0 col1\" >Value</th>\n",
       "    </tr>\n",
       "  </thead>\n",
       "  <tbody>\n",
       "    <tr>\n",
       "      <th id=\"T_6db2a_level0_row0\" class=\"row_heading level0 row0\" >0</th>\n",
       "      <td id=\"T_6db2a_row0_col0\" class=\"data row0 col0\" >Session id</td>\n",
       "      <td id=\"T_6db2a_row0_col1\" class=\"data row0 col1\" >2097</td>\n",
       "    </tr>\n",
       "    <tr>\n",
       "      <th id=\"T_6db2a_level0_row1\" class=\"row_heading level0 row1\" >1</th>\n",
       "      <td id=\"T_6db2a_row1_col0\" class=\"data row1 col0\" >Target</td>\n",
       "      <td id=\"T_6db2a_row1_col1\" class=\"data row1 col1\" >charges</td>\n",
       "    </tr>\n",
       "    <tr>\n",
       "      <th id=\"T_6db2a_level0_row2\" class=\"row_heading level0 row2\" >2</th>\n",
       "      <td id=\"T_6db2a_row2_col0\" class=\"data row2 col0\" >Target type</td>\n",
       "      <td id=\"T_6db2a_row2_col1\" class=\"data row2 col1\" >Regression</td>\n",
       "    </tr>\n",
       "    <tr>\n",
       "      <th id=\"T_6db2a_level0_row3\" class=\"row_heading level0 row3\" >3</th>\n",
       "      <td id=\"T_6db2a_row3_col0\" class=\"data row3 col0\" >Original data shape</td>\n",
       "      <td id=\"T_6db2a_row3_col1\" class=\"data row3 col1\" >(937, 7)</td>\n",
       "    </tr>\n",
       "    <tr>\n",
       "      <th id=\"T_6db2a_level0_row4\" class=\"row_heading level0 row4\" >4</th>\n",
       "      <td id=\"T_6db2a_row4_col0\" class=\"data row4 col0\" >Transformed data shape</td>\n",
       "      <td id=\"T_6db2a_row4_col1\" class=\"data row4 col1\" >(937, 10)</td>\n",
       "    </tr>\n",
       "    <tr>\n",
       "      <th id=\"T_6db2a_level0_row5\" class=\"row_heading level0 row5\" >5</th>\n",
       "      <td id=\"T_6db2a_row5_col0\" class=\"data row5 col0\" >Transformed train set shape</td>\n",
       "      <td id=\"T_6db2a_row5_col1\" class=\"data row5 col1\" >(655, 10)</td>\n",
       "    </tr>\n",
       "    <tr>\n",
       "      <th id=\"T_6db2a_level0_row6\" class=\"row_heading level0 row6\" >6</th>\n",
       "      <td id=\"T_6db2a_row6_col0\" class=\"data row6 col0\" >Transformed test set shape</td>\n",
       "      <td id=\"T_6db2a_row6_col1\" class=\"data row6 col1\" >(282, 10)</td>\n",
       "    </tr>\n",
       "    <tr>\n",
       "      <th id=\"T_6db2a_level0_row7\" class=\"row_heading level0 row7\" >7</th>\n",
       "      <td id=\"T_6db2a_row7_col0\" class=\"data row7 col0\" >Numeric features</td>\n",
       "      <td id=\"T_6db2a_row7_col1\" class=\"data row7 col1\" >3</td>\n",
       "    </tr>\n",
       "    <tr>\n",
       "      <th id=\"T_6db2a_level0_row8\" class=\"row_heading level0 row8\" >8</th>\n",
       "      <td id=\"T_6db2a_row8_col0\" class=\"data row8 col0\" >Categorical features</td>\n",
       "      <td id=\"T_6db2a_row8_col1\" class=\"data row8 col1\" >3</td>\n",
       "    </tr>\n",
       "    <tr>\n",
       "      <th id=\"T_6db2a_level0_row9\" class=\"row_heading level0 row9\" >9</th>\n",
       "      <td id=\"T_6db2a_row9_col0\" class=\"data row9 col0\" >Preprocess</td>\n",
       "      <td id=\"T_6db2a_row9_col1\" class=\"data row9 col1\" >True</td>\n",
       "    </tr>\n",
       "    <tr>\n",
       "      <th id=\"T_6db2a_level0_row10\" class=\"row_heading level0 row10\" >10</th>\n",
       "      <td id=\"T_6db2a_row10_col0\" class=\"data row10 col0\" >Imputation type</td>\n",
       "      <td id=\"T_6db2a_row10_col1\" class=\"data row10 col1\" >simple</td>\n",
       "    </tr>\n",
       "    <tr>\n",
       "      <th id=\"T_6db2a_level0_row11\" class=\"row_heading level0 row11\" >11</th>\n",
       "      <td id=\"T_6db2a_row11_col0\" class=\"data row11 col0\" >Numeric imputation</td>\n",
       "      <td id=\"T_6db2a_row11_col1\" class=\"data row11 col1\" >mean</td>\n",
       "    </tr>\n",
       "    <tr>\n",
       "      <th id=\"T_6db2a_level0_row12\" class=\"row_heading level0 row12\" >12</th>\n",
       "      <td id=\"T_6db2a_row12_col0\" class=\"data row12 col0\" >Categorical imputation</td>\n",
       "      <td id=\"T_6db2a_row12_col1\" class=\"data row12 col1\" >mode</td>\n",
       "    </tr>\n",
       "    <tr>\n",
       "      <th id=\"T_6db2a_level0_row13\" class=\"row_heading level0 row13\" >13</th>\n",
       "      <td id=\"T_6db2a_row13_col0\" class=\"data row13 col0\" >Maximum one-hot encoding</td>\n",
       "      <td id=\"T_6db2a_row13_col1\" class=\"data row13 col1\" >25</td>\n",
       "    </tr>\n",
       "    <tr>\n",
       "      <th id=\"T_6db2a_level0_row14\" class=\"row_heading level0 row14\" >14</th>\n",
       "      <td id=\"T_6db2a_row14_col0\" class=\"data row14 col0\" >Encoding method</td>\n",
       "      <td id=\"T_6db2a_row14_col1\" class=\"data row14 col1\" >None</td>\n",
       "    </tr>\n",
       "    <tr>\n",
       "      <th id=\"T_6db2a_level0_row15\" class=\"row_heading level0 row15\" >15</th>\n",
       "      <td id=\"T_6db2a_row15_col0\" class=\"data row15 col0\" >Fold Generator</td>\n",
       "      <td id=\"T_6db2a_row15_col1\" class=\"data row15 col1\" >KFold</td>\n",
       "    </tr>\n",
       "    <tr>\n",
       "      <th id=\"T_6db2a_level0_row16\" class=\"row_heading level0 row16\" >16</th>\n",
       "      <td id=\"T_6db2a_row16_col0\" class=\"data row16 col0\" >Fold Number</td>\n",
       "      <td id=\"T_6db2a_row16_col1\" class=\"data row16 col1\" >10</td>\n",
       "    </tr>\n",
       "    <tr>\n",
       "      <th id=\"T_6db2a_level0_row17\" class=\"row_heading level0 row17\" >17</th>\n",
       "      <td id=\"T_6db2a_row17_col0\" class=\"data row17 col0\" >CPU Jobs</td>\n",
       "      <td id=\"T_6db2a_row17_col1\" class=\"data row17 col1\" >-1</td>\n",
       "    </tr>\n",
       "    <tr>\n",
       "      <th id=\"T_6db2a_level0_row18\" class=\"row_heading level0 row18\" >18</th>\n",
       "      <td id=\"T_6db2a_row18_col0\" class=\"data row18 col0\" >Use GPU</td>\n",
       "      <td id=\"T_6db2a_row18_col1\" class=\"data row18 col1\" >False</td>\n",
       "    </tr>\n",
       "    <tr>\n",
       "      <th id=\"T_6db2a_level0_row19\" class=\"row_heading level0 row19\" >19</th>\n",
       "      <td id=\"T_6db2a_row19_col0\" class=\"data row19 col0\" >Log Experiment</td>\n",
       "      <td id=\"T_6db2a_row19_col1\" class=\"data row19 col1\" >False</td>\n",
       "    </tr>\n",
       "    <tr>\n",
       "      <th id=\"T_6db2a_level0_row20\" class=\"row_heading level0 row20\" >20</th>\n",
       "      <td id=\"T_6db2a_row20_col0\" class=\"data row20 col0\" >Experiment Name</td>\n",
       "      <td id=\"T_6db2a_row20_col1\" class=\"data row20 col1\" >reg-default-name</td>\n",
       "    </tr>\n",
       "    <tr>\n",
       "      <th id=\"T_6db2a_level0_row21\" class=\"row_heading level0 row21\" >21</th>\n",
       "      <td id=\"T_6db2a_row21_col0\" class=\"data row21 col0\" >USI</td>\n",
       "      <td id=\"T_6db2a_row21_col1\" class=\"data row21 col1\" >84f2</td>\n",
       "    </tr>\n",
       "  </tbody>\n",
       "</table>\n"
      ],
      "text/plain": [
       "<pandas.io.formats.style.Styler at 0x12fce2fd0>"
      ]
     },
     "metadata": {},
     "output_type": "display_data"
    }
   ],
   "source": [
    "# Creating the PyCaret setup\n",
    "reg = setup(data=train, target='charges')"
   ]
  },
  {
   "cell_type": "markdown",
   "metadata": {},
   "source": [
    "## Creating the pipeline\n"
   ]
  },
  {
   "cell_type": "markdown",
   "metadata": {},
   "source": [
    "The pipeline is an **automated preprocessing and modeling workflow** that ensures that all transformations applied to the training data are replicated on the test data and new predictions.\n",
    "\n",
    "When we call setup(), PyCaret creates a pipeline that includes steps such as missing value handling, categorical variable encoding, normalization, outlier removal, and feature selection. This pipeline is automatically applied to all trained models, ensuring consistency and **eliminating the need to repeat these steps manually**."
   ]
  },
  {
   "cell_type": "code",
   "execution_count": 81,
   "metadata": {},
   "outputs": [
    {
     "data": {
      "text/html": [
       "<style type=\"text/css\">\n",
       "#T_a60b9_row9_col1, #T_a60b9_row15_col1 {\n",
       "  background-color: lightgreen;\n",
       "}\n",
       "</style>\n",
       "<table id=\"T_a60b9\">\n",
       "  <thead>\n",
       "    <tr>\n",
       "      <th class=\"blank level0\" >&nbsp;</th>\n",
       "      <th id=\"T_a60b9_level0_col0\" class=\"col_heading level0 col0\" >Description</th>\n",
       "      <th id=\"T_a60b9_level0_col1\" class=\"col_heading level0 col1\" >Value</th>\n",
       "    </tr>\n",
       "  </thead>\n",
       "  <tbody>\n",
       "    <tr>\n",
       "      <th id=\"T_a60b9_level0_row0\" class=\"row_heading level0 row0\" >0</th>\n",
       "      <td id=\"T_a60b9_row0_col0\" class=\"data row0 col0\" >Session id</td>\n",
       "      <td id=\"T_a60b9_row0_col1\" class=\"data row0 col1\" >6256</td>\n",
       "    </tr>\n",
       "    <tr>\n",
       "      <th id=\"T_a60b9_level0_row1\" class=\"row_heading level0 row1\" >1</th>\n",
       "      <td id=\"T_a60b9_row1_col0\" class=\"data row1 col0\" >Target</td>\n",
       "      <td id=\"T_a60b9_row1_col1\" class=\"data row1 col1\" >charges</td>\n",
       "    </tr>\n",
       "    <tr>\n",
       "      <th id=\"T_a60b9_level0_row2\" class=\"row_heading level0 row2\" >2</th>\n",
       "      <td id=\"T_a60b9_row2_col0\" class=\"data row2 col0\" >Target type</td>\n",
       "      <td id=\"T_a60b9_row2_col1\" class=\"data row2 col1\" >Regression</td>\n",
       "    </tr>\n",
       "    <tr>\n",
       "      <th id=\"T_a60b9_level0_row3\" class=\"row_heading level0 row3\" >3</th>\n",
       "      <td id=\"T_a60b9_row3_col0\" class=\"data row3 col0\" >Original data shape</td>\n",
       "      <td id=\"T_a60b9_row3_col1\" class=\"data row3 col1\" >(1070, 7)</td>\n",
       "    </tr>\n",
       "    <tr>\n",
       "      <th id=\"T_a60b9_level0_row4\" class=\"row_heading level0 row4\" >4</th>\n",
       "      <td id=\"T_a60b9_row4_col0\" class=\"data row4 col0\" >Transformed data shape</td>\n",
       "      <td id=\"T_a60b9_row4_col1\" class=\"data row4 col1\" >(1070, 10)</td>\n",
       "    </tr>\n",
       "    <tr>\n",
       "      <th id=\"T_a60b9_level0_row5\" class=\"row_heading level0 row5\" >5</th>\n",
       "      <td id=\"T_a60b9_row5_col0\" class=\"data row5 col0\" >Transformed train set shape</td>\n",
       "      <td id=\"T_a60b9_row5_col1\" class=\"data row5 col1\" >(749, 10)</td>\n",
       "    </tr>\n",
       "    <tr>\n",
       "      <th id=\"T_a60b9_level0_row6\" class=\"row_heading level0 row6\" >6</th>\n",
       "      <td id=\"T_a60b9_row6_col0\" class=\"data row6 col0\" >Transformed test set shape</td>\n",
       "      <td id=\"T_a60b9_row6_col1\" class=\"data row6 col1\" >(321, 10)</td>\n",
       "    </tr>\n",
       "    <tr>\n",
       "      <th id=\"T_a60b9_level0_row7\" class=\"row_heading level0 row7\" >7</th>\n",
       "      <td id=\"T_a60b9_row7_col0\" class=\"data row7 col0\" >Numeric features</td>\n",
       "      <td id=\"T_a60b9_row7_col1\" class=\"data row7 col1\" >3</td>\n",
       "    </tr>\n",
       "    <tr>\n",
       "      <th id=\"T_a60b9_level0_row8\" class=\"row_heading level0 row8\" >8</th>\n",
       "      <td id=\"T_a60b9_row8_col0\" class=\"data row8 col0\" >Categorical features</td>\n",
       "      <td id=\"T_a60b9_row8_col1\" class=\"data row8 col1\" >3</td>\n",
       "    </tr>\n",
       "    <tr>\n",
       "      <th id=\"T_a60b9_level0_row9\" class=\"row_heading level0 row9\" >9</th>\n",
       "      <td id=\"T_a60b9_row9_col0\" class=\"data row9 col0\" >Preprocess</td>\n",
       "      <td id=\"T_a60b9_row9_col1\" class=\"data row9 col1\" >True</td>\n",
       "    </tr>\n",
       "    <tr>\n",
       "      <th id=\"T_a60b9_level0_row10\" class=\"row_heading level0 row10\" >10</th>\n",
       "      <td id=\"T_a60b9_row10_col0\" class=\"data row10 col0\" >Imputation type</td>\n",
       "      <td id=\"T_a60b9_row10_col1\" class=\"data row10 col1\" >simple</td>\n",
       "    </tr>\n",
       "    <tr>\n",
       "      <th id=\"T_a60b9_level0_row11\" class=\"row_heading level0 row11\" >11</th>\n",
       "      <td id=\"T_a60b9_row11_col0\" class=\"data row11 col0\" >Numeric imputation</td>\n",
       "      <td id=\"T_a60b9_row11_col1\" class=\"data row11 col1\" >mean</td>\n",
       "    </tr>\n",
       "    <tr>\n",
       "      <th id=\"T_a60b9_level0_row12\" class=\"row_heading level0 row12\" >12</th>\n",
       "      <td id=\"T_a60b9_row12_col0\" class=\"data row12 col0\" >Categorical imputation</td>\n",
       "      <td id=\"T_a60b9_row12_col1\" class=\"data row12 col1\" >mode</td>\n",
       "    </tr>\n",
       "    <tr>\n",
       "      <th id=\"T_a60b9_level0_row13\" class=\"row_heading level0 row13\" >13</th>\n",
       "      <td id=\"T_a60b9_row13_col0\" class=\"data row13 col0\" >Maximum one-hot encoding</td>\n",
       "      <td id=\"T_a60b9_row13_col1\" class=\"data row13 col1\" >25</td>\n",
       "    </tr>\n",
       "    <tr>\n",
       "      <th id=\"T_a60b9_level0_row14\" class=\"row_heading level0 row14\" >14</th>\n",
       "      <td id=\"T_a60b9_row14_col0\" class=\"data row14 col0\" >Encoding method</td>\n",
       "      <td id=\"T_a60b9_row14_col1\" class=\"data row14 col1\" >None</td>\n",
       "    </tr>\n",
       "    <tr>\n",
       "      <th id=\"T_a60b9_level0_row15\" class=\"row_heading level0 row15\" >15</th>\n",
       "      <td id=\"T_a60b9_row15_col0\" class=\"data row15 col0\" >Normalize</td>\n",
       "      <td id=\"T_a60b9_row15_col1\" class=\"data row15 col1\" >True</td>\n",
       "    </tr>\n",
       "    <tr>\n",
       "      <th id=\"T_a60b9_level0_row16\" class=\"row_heading level0 row16\" >16</th>\n",
       "      <td id=\"T_a60b9_row16_col0\" class=\"data row16 col0\" >Normalize method</td>\n",
       "      <td id=\"T_a60b9_row16_col1\" class=\"data row16 col1\" >zscore</td>\n",
       "    </tr>\n",
       "    <tr>\n",
       "      <th id=\"T_a60b9_level0_row17\" class=\"row_heading level0 row17\" >17</th>\n",
       "      <td id=\"T_a60b9_row17_col0\" class=\"data row17 col0\" >Fold Generator</td>\n",
       "      <td id=\"T_a60b9_row17_col1\" class=\"data row17 col1\" >KFold</td>\n",
       "    </tr>\n",
       "    <tr>\n",
       "      <th id=\"T_a60b9_level0_row18\" class=\"row_heading level0 row18\" >18</th>\n",
       "      <td id=\"T_a60b9_row18_col0\" class=\"data row18 col0\" >Fold Number</td>\n",
       "      <td id=\"T_a60b9_row18_col1\" class=\"data row18 col1\" >10</td>\n",
       "    </tr>\n",
       "    <tr>\n",
       "      <th id=\"T_a60b9_level0_row19\" class=\"row_heading level0 row19\" >19</th>\n",
       "      <td id=\"T_a60b9_row19_col0\" class=\"data row19 col0\" >CPU Jobs</td>\n",
       "      <td id=\"T_a60b9_row19_col1\" class=\"data row19 col1\" >-1</td>\n",
       "    </tr>\n",
       "    <tr>\n",
       "      <th id=\"T_a60b9_level0_row20\" class=\"row_heading level0 row20\" >20</th>\n",
       "      <td id=\"T_a60b9_row20_col0\" class=\"data row20 col0\" >Use GPU</td>\n",
       "      <td id=\"T_a60b9_row20_col1\" class=\"data row20 col1\" >False</td>\n",
       "    </tr>\n",
       "    <tr>\n",
       "      <th id=\"T_a60b9_level0_row21\" class=\"row_heading level0 row21\" >21</th>\n",
       "      <td id=\"T_a60b9_row21_col0\" class=\"data row21 col0\" >Log Experiment</td>\n",
       "      <td id=\"T_a60b9_row21_col1\" class=\"data row21 col1\" >False</td>\n",
       "    </tr>\n",
       "    <tr>\n",
       "      <th id=\"T_a60b9_level0_row22\" class=\"row_heading level0 row22\" >22</th>\n",
       "      <td id=\"T_a60b9_row22_col0\" class=\"data row22 col0\" >Experiment Name</td>\n",
       "      <td id=\"T_a60b9_row22_col1\" class=\"data row22 col1\" >test_01</td>\n",
       "    </tr>\n",
       "    <tr>\n",
       "      <th id=\"T_a60b9_level0_row23\" class=\"row_heading level0 row23\" >23</th>\n",
       "      <td id=\"T_a60b9_row23_col0\" class=\"data row23 col0\" >USI</td>\n",
       "      <td id=\"T_a60b9_row23_col1\" class=\"data row23 col1\" >5b17</td>\n",
       "    </tr>\n",
       "  </tbody>\n",
       "</table>\n"
      ],
      "text/plain": [
       "<pandas.io.formats.style.Styler at 0x130384a30>"
      ]
     },
     "metadata": {},
     "output_type": "display_data"
    }
   ],
   "source": [
    "# Creating the pipeline\n",
    "reg = setup(data = train,\n",
    "            target = 'charges',\n",
    "            normalize = True,\n",
    "            #log_experiment = True,\n",
    "            experiment_name = 'test_01')"
   ]
  },
  {
   "cell_type": "markdown",
   "metadata": {},
   "source": [
    "## Comparing the models"
   ]
  },
  {
   "cell_type": "code",
   "execution_count": 50,
   "metadata": {},
   "outputs": [
    {
     "data": {
      "text/html": [],
      "text/plain": [
       "<IPython.core.display.HTML object>"
      ]
     },
     "metadata": {},
     "output_type": "display_data"
    },
    {
     "data": {
      "text/html": [
       "<style type=\"text/css\">\n",
       "#T_8927b th {\n",
       "  text-align: left;\n",
       "}\n",
       "#T_8927b_row0_col0, #T_8927b_row0_col1, #T_8927b_row0_col5, #T_8927b_row0_col6, #T_8927b_row1_col0, #T_8927b_row1_col1, #T_8927b_row1_col2, #T_8927b_row1_col3, #T_8927b_row1_col4, #T_8927b_row1_col5, #T_8927b_row1_col6, #T_8927b_row2_col0, #T_8927b_row2_col1, #T_8927b_row2_col2, #T_8927b_row2_col3, #T_8927b_row2_col4, #T_8927b_row2_col5, #T_8927b_row2_col6, #T_8927b_row3_col0, #T_8927b_row3_col2, #T_8927b_row3_col3, #T_8927b_row3_col4, #T_8927b_row3_col6, #T_8927b_row4_col0, #T_8927b_row4_col1, #T_8927b_row4_col2, #T_8927b_row4_col3, #T_8927b_row4_col4, #T_8927b_row4_col5, #T_8927b_row4_col6, #T_8927b_row5_col0, #T_8927b_row5_col1, #T_8927b_row5_col2, #T_8927b_row5_col3, #T_8927b_row5_col4, #T_8927b_row5_col5, #T_8927b_row5_col6, #T_8927b_row6_col0, #T_8927b_row6_col1, #T_8927b_row6_col2, #T_8927b_row6_col3, #T_8927b_row6_col4, #T_8927b_row6_col5, #T_8927b_row6_col6, #T_8927b_row7_col0, #T_8927b_row7_col1, #T_8927b_row7_col2, #T_8927b_row7_col3, #T_8927b_row7_col4, #T_8927b_row7_col5, #T_8927b_row7_col6, #T_8927b_row8_col0, #T_8927b_row8_col1, #T_8927b_row8_col2, #T_8927b_row8_col3, #T_8927b_row8_col4, #T_8927b_row8_col5, #T_8927b_row8_col6, #T_8927b_row9_col0, #T_8927b_row9_col1, #T_8927b_row9_col2, #T_8927b_row9_col3, #T_8927b_row9_col4, #T_8927b_row9_col5, #T_8927b_row9_col6, #T_8927b_row10_col0, #T_8927b_row10_col1, #T_8927b_row10_col2, #T_8927b_row10_col3, #T_8927b_row10_col4, #T_8927b_row10_col5, #T_8927b_row10_col6, #T_8927b_row11_col0, #T_8927b_row11_col1, #T_8927b_row11_col2, #T_8927b_row11_col3, #T_8927b_row11_col4, #T_8927b_row11_col5, #T_8927b_row11_col6, #T_8927b_row12_col0, #T_8927b_row12_col1, #T_8927b_row12_col2, #T_8927b_row12_col3, #T_8927b_row12_col4, #T_8927b_row12_col5, #T_8927b_row12_col6, #T_8927b_row13_col0, #T_8927b_row13_col1, #T_8927b_row13_col2, #T_8927b_row13_col3, #T_8927b_row13_col4, #T_8927b_row13_col5, #T_8927b_row13_col6, #T_8927b_row14_col0, #T_8927b_row14_col1, #T_8927b_row14_col2, #T_8927b_row14_col3, #T_8927b_row14_col4, #T_8927b_row14_col5, #T_8927b_row15_col0, #T_8927b_row15_col1, #T_8927b_row15_col2, #T_8927b_row15_col3, #T_8927b_row15_col4, #T_8927b_row15_col5, #T_8927b_row15_col6, #T_8927b_row16_col0, #T_8927b_row16_col1, #T_8927b_row16_col2, #T_8927b_row16_col3, #T_8927b_row16_col4, #T_8927b_row16_col5, #T_8927b_row16_col6, #T_8927b_row17_col0, #T_8927b_row17_col1, #T_8927b_row17_col2, #T_8927b_row17_col3, #T_8927b_row17_col4, #T_8927b_row17_col5, #T_8927b_row17_col6 {\n",
       "  text-align: left;\n",
       "}\n",
       "#T_8927b_row0_col2, #T_8927b_row0_col3, #T_8927b_row0_col4, #T_8927b_row3_col1, #T_8927b_row3_col5, #T_8927b_row14_col6 {\n",
       "  text-align: left;\n",
       "  background-color: yellow;\n",
       "}\n",
       "#T_8927b_row0_col7, #T_8927b_row1_col7, #T_8927b_row2_col7, #T_8927b_row3_col7, #T_8927b_row4_col7, #T_8927b_row5_col7, #T_8927b_row6_col7, #T_8927b_row7_col7, #T_8927b_row8_col7, #T_8927b_row9_col7, #T_8927b_row10_col7, #T_8927b_row11_col7, #T_8927b_row12_col7, #T_8927b_row14_col7, #T_8927b_row15_col7, #T_8927b_row17_col7 {\n",
       "  text-align: left;\n",
       "  background-color: lightgrey;\n",
       "}\n",
       "#T_8927b_row13_col7, #T_8927b_row16_col7 {\n",
       "  text-align: left;\n",
       "  background-color: yellow;\n",
       "  background-color: lightgrey;\n",
       "}\n",
       "</style>\n",
       "<table id=\"T_8927b\">\n",
       "  <thead>\n",
       "    <tr>\n",
       "      <th class=\"blank level0\" >&nbsp;</th>\n",
       "      <th id=\"T_8927b_level0_col0\" class=\"col_heading level0 col0\" >Model</th>\n",
       "      <th id=\"T_8927b_level0_col1\" class=\"col_heading level0 col1\" >MAE</th>\n",
       "      <th id=\"T_8927b_level0_col2\" class=\"col_heading level0 col2\" >MSE</th>\n",
       "      <th id=\"T_8927b_level0_col3\" class=\"col_heading level0 col3\" >RMSE</th>\n",
       "      <th id=\"T_8927b_level0_col4\" class=\"col_heading level0 col4\" >R2</th>\n",
       "      <th id=\"T_8927b_level0_col5\" class=\"col_heading level0 col5\" >RMSLE</th>\n",
       "      <th id=\"T_8927b_level0_col6\" class=\"col_heading level0 col6\" >MAPE</th>\n",
       "      <th id=\"T_8927b_level0_col7\" class=\"col_heading level0 col7\" >TT (Sec)</th>\n",
       "    </tr>\n",
       "  </thead>\n",
       "  <tbody>\n",
       "    <tr>\n",
       "      <th id=\"T_8927b_level0_row0\" class=\"row_heading level0 row0\" >gbr</th>\n",
       "      <td id=\"T_8927b_row0_col0\" class=\"data row0 col0\" >Gradient Boosting Regressor</td>\n",
       "      <td id=\"T_8927b_row0_col1\" class=\"data row0 col1\" >2838.2239</td>\n",
       "      <td id=\"T_8927b_row0_col2\" class=\"data row0 col2\" >24308461.1869</td>\n",
       "      <td id=\"T_8927b_row0_col3\" class=\"data row0 col3\" >4870.8934</td>\n",
       "      <td id=\"T_8927b_row0_col4\" class=\"data row0 col4\" >0.8146</td>\n",
       "      <td id=\"T_8927b_row0_col5\" class=\"data row0 col5\" >0.4548</td>\n",
       "      <td id=\"T_8927b_row0_col6\" class=\"data row0 col6\" >0.3170</td>\n",
       "      <td id=\"T_8927b_row0_col7\" class=\"data row0 col7\" >0.2580</td>\n",
       "    </tr>\n",
       "    <tr>\n",
       "      <th id=\"T_8927b_level0_row1\" class=\"row_heading level0 row1\" >lightgbm</th>\n",
       "      <td id=\"T_8927b_row1_col0\" class=\"data row1 col0\" >Light Gradient Boosting Machine</td>\n",
       "      <td id=\"T_8927b_row1_col1\" class=\"data row1 col1\" >3031.2517</td>\n",
       "      <td id=\"T_8927b_row1_col2\" class=\"data row1 col2\" >24621230.6580</td>\n",
       "      <td id=\"T_8927b_row1_col3\" class=\"data row1 col3\" >4910.1198</td>\n",
       "      <td id=\"T_8927b_row1_col4\" class=\"data row1 col4\" >0.8101</td>\n",
       "      <td id=\"T_8927b_row1_col5\" class=\"data row1 col5\" >0.5268</td>\n",
       "      <td id=\"T_8927b_row1_col6\" class=\"data row1 col6\" >0.3745</td>\n",
       "      <td id=\"T_8927b_row1_col7\" class=\"data row1 col7\" >0.3720</td>\n",
       "    </tr>\n",
       "    <tr>\n",
       "      <th id=\"T_8927b_level0_row2\" class=\"row_heading level0 row2\" >rf</th>\n",
       "      <td id=\"T_8927b_row2_col0\" class=\"data row2 col0\" >Random Forest Regressor</td>\n",
       "      <td id=\"T_8927b_row2_col1\" class=\"data row2 col1\" >2844.0139</td>\n",
       "      <td id=\"T_8927b_row2_col2\" class=\"data row2 col2\" >25045461.7792</td>\n",
       "      <td id=\"T_8927b_row2_col3\" class=\"data row2 col3\" >4962.0222</td>\n",
       "      <td id=\"T_8927b_row2_col4\" class=\"data row2 col4\" >0.8098</td>\n",
       "      <td id=\"T_8927b_row2_col5\" class=\"data row2 col5\" >0.4558</td>\n",
       "      <td id=\"T_8927b_row2_col6\" class=\"data row2 col6\" >0.3256</td>\n",
       "      <td id=\"T_8927b_row2_col7\" class=\"data row2 col7\" >0.2950</td>\n",
       "    </tr>\n",
       "    <tr>\n",
       "      <th id=\"T_8927b_level0_row3\" class=\"row_heading level0 row3\" >et</th>\n",
       "      <td id=\"T_8927b_row3_col0\" class=\"data row3 col0\" >Extra Trees Regressor</td>\n",
       "      <td id=\"T_8927b_row3_col1\" class=\"data row3 col1\" >2836.7202</td>\n",
       "      <td id=\"T_8927b_row3_col2\" class=\"data row3 col2\" >27188907.5874</td>\n",
       "      <td id=\"T_8927b_row3_col3\" class=\"data row3 col3\" >5162.5093</td>\n",
       "      <td id=\"T_8927b_row3_col4\" class=\"data row3 col4\" >0.7920</td>\n",
       "      <td id=\"T_8927b_row3_col5\" class=\"data row3 col5\" >0.4499</td>\n",
       "      <td id=\"T_8927b_row3_col6\" class=\"data row3 col6\" >0.3042</td>\n",
       "      <td id=\"T_8927b_row3_col7\" class=\"data row3 col7\" >0.3150</td>\n",
       "    </tr>\n",
       "    <tr>\n",
       "      <th id=\"T_8927b_level0_row4\" class=\"row_heading level0 row4\" >ada</th>\n",
       "      <td id=\"T_8927b_row4_col0\" class=\"data row4 col0\" >AdaBoost Regressor</td>\n",
       "      <td id=\"T_8927b_row4_col1\" class=\"data row4 col1\" >4217.2349</td>\n",
       "      <td id=\"T_8927b_row4_col2\" class=\"data row4 col2\" >29497163.8383</td>\n",
       "      <td id=\"T_8927b_row4_col3\" class=\"data row4 col3\" >5404.1839</td>\n",
       "      <td id=\"T_8927b_row4_col4\" class=\"data row4 col4\" >0.7757</td>\n",
       "      <td id=\"T_8927b_row4_col5\" class=\"data row4 col5\" >0.6171</td>\n",
       "      <td id=\"T_8927b_row4_col6\" class=\"data row4 col6\" >0.6898</td>\n",
       "      <td id=\"T_8927b_row4_col7\" class=\"data row4 col7\" >0.1780</td>\n",
       "    </tr>\n",
       "    <tr>\n",
       "      <th id=\"T_8927b_level0_row5\" class=\"row_heading level0 row5\" >knn</th>\n",
       "      <td id=\"T_8927b_row5_col0\" class=\"data row5 col0\" >K Neighbors Regressor</td>\n",
       "      <td id=\"T_8927b_row5_col1\" class=\"data row5 col1\" >3749.0215</td>\n",
       "      <td id=\"T_8927b_row5_col2\" class=\"data row5 col2\" >34721022.6000</td>\n",
       "      <td id=\"T_8927b_row5_col3\" class=\"data row5 col3\" >5849.5203</td>\n",
       "      <td id=\"T_8927b_row5_col4\" class=\"data row5 col4\" >0.7441</td>\n",
       "      <td id=\"T_8927b_row5_col5\" class=\"data row5 col5\" >0.4674</td>\n",
       "      <td id=\"T_8927b_row5_col6\" class=\"data row5 col6\" >0.3538</td>\n",
       "      <td id=\"T_8927b_row5_col7\" class=\"data row5 col7\" >0.0940</td>\n",
       "    </tr>\n",
       "    <tr>\n",
       "      <th id=\"T_8927b_level0_row6\" class=\"row_heading level0 row6\" >br</th>\n",
       "      <td id=\"T_8927b_row6_col0\" class=\"data row6 col0\" >Bayesian Ridge</td>\n",
       "      <td id=\"T_8927b_row6_col1\" class=\"data row6 col1\" >4434.2922</td>\n",
       "      <td id=\"T_8927b_row6_col2\" class=\"data row6 col2\" >38897496.2775</td>\n",
       "      <td id=\"T_8927b_row6_col3\" class=\"data row6 col3\" >6202.6256</td>\n",
       "      <td id=\"T_8927b_row6_col4\" class=\"data row6 col4\" >0.7079</td>\n",
       "      <td id=\"T_8927b_row6_col5\" class=\"data row6 col5\" >0.6168</td>\n",
       "      <td id=\"T_8927b_row6_col6\" class=\"data row6 col6\" >0.4565</td>\n",
       "      <td id=\"T_8927b_row6_col7\" class=\"data row6 col7\" >0.1120</td>\n",
       "    </tr>\n",
       "    <tr>\n",
       "      <th id=\"T_8927b_level0_row7\" class=\"row_heading level0 row7\" >ridge</th>\n",
       "      <td id=\"T_8927b_row7_col0\" class=\"data row7 col0\" >Ridge Regression</td>\n",
       "      <td id=\"T_8927b_row7_col1\" class=\"data row7 col1\" >4429.4366</td>\n",
       "      <td id=\"T_8927b_row7_col2\" class=\"data row7 col2\" >38892940.6769</td>\n",
       "      <td id=\"T_8927b_row7_col3\" class=\"data row7 col3\" >6202.1256</td>\n",
       "      <td id=\"T_8927b_row7_col4\" class=\"data row7 col4\" >0.7078</td>\n",
       "      <td id=\"T_8927b_row7_col5\" class=\"data row7 col5\" >0.6266</td>\n",
       "      <td id=\"T_8927b_row7_col6\" class=\"data row7 col6\" >0.4554</td>\n",
       "      <td id=\"T_8927b_row7_col7\" class=\"data row7 col7\" >0.0970</td>\n",
       "    </tr>\n",
       "    <tr>\n",
       "      <th id=\"T_8927b_level0_row8\" class=\"row_heading level0 row8\" >lar</th>\n",
       "      <td id=\"T_8927b_row8_col0\" class=\"data row8 col0\" >Least Angle Regression</td>\n",
       "      <td id=\"T_8927b_row8_col1\" class=\"data row8 col1\" >4426.9611</td>\n",
       "      <td id=\"T_8927b_row8_col2\" class=\"data row8 col2\" >38893859.1147</td>\n",
       "      <td id=\"T_8927b_row8_col3\" class=\"data row8 col3\" >6202.1219</td>\n",
       "      <td id=\"T_8927b_row8_col4\" class=\"data row8 col4\" >0.7077</td>\n",
       "      <td id=\"T_8927b_row8_col5\" class=\"data row8 col5\" >0.6252</td>\n",
       "      <td id=\"T_8927b_row8_col6\" class=\"data row8 col6\" >0.4549</td>\n",
       "      <td id=\"T_8927b_row8_col7\" class=\"data row8 col7\" >0.1040</td>\n",
       "    </tr>\n",
       "    <tr>\n",
       "      <th id=\"T_8927b_level0_row9\" class=\"row_heading level0 row9\" >llar</th>\n",
       "      <td id=\"T_8927b_row9_col0\" class=\"data row9 col0\" >Lasso Least Angle Regression</td>\n",
       "      <td id=\"T_8927b_row9_col1\" class=\"data row9 col1\" >4426.7486</td>\n",
       "      <td id=\"T_8927b_row9_col2\" class=\"data row9 col2\" >38891804.2897</td>\n",
       "      <td id=\"T_8927b_row9_col3\" class=\"data row9 col3\" >6201.9417</td>\n",
       "      <td id=\"T_8927b_row9_col4\" class=\"data row9 col4\" >0.7077</td>\n",
       "      <td id=\"T_8927b_row9_col5\" class=\"data row9 col5\" >0.6288</td>\n",
       "      <td id=\"T_8927b_row9_col6\" class=\"data row9 col6\" >0.4549</td>\n",
       "      <td id=\"T_8927b_row9_col7\" class=\"data row9 col7\" >0.0810</td>\n",
       "    </tr>\n",
       "    <tr>\n",
       "      <th id=\"T_8927b_level0_row10\" class=\"row_heading level0 row10\" >lasso</th>\n",
       "      <td id=\"T_8927b_row10_col0\" class=\"data row10 col0\" >Lasso Regression</td>\n",
       "      <td id=\"T_8927b_row10_col1\" class=\"data row10 col1\" >4426.7668</td>\n",
       "      <td id=\"T_8927b_row10_col2\" class=\"data row10 col2\" >38891974.8784</td>\n",
       "      <td id=\"T_8927b_row10_col3\" class=\"data row10 col3\" >6201.9569</td>\n",
       "      <td id=\"T_8927b_row10_col4\" class=\"data row10 col4\" >0.7077</td>\n",
       "      <td id=\"T_8927b_row10_col5\" class=\"data row10 col5\" >0.6286</td>\n",
       "      <td id=\"T_8927b_row10_col6\" class=\"data row10 col6\" >0.4549</td>\n",
       "      <td id=\"T_8927b_row10_col7\" class=\"data row10 col7\" >0.0880</td>\n",
       "    </tr>\n",
       "    <tr>\n",
       "      <th id=\"T_8927b_level0_row11\" class=\"row_heading level0 row11\" >lr</th>\n",
       "      <td id=\"T_8927b_row11_col0\" class=\"data row11 col0\" >Linear Regression</td>\n",
       "      <td id=\"T_8927b_row11_col1\" class=\"data row11 col1\" >4432.7784</td>\n",
       "      <td id=\"T_8927b_row11_col2\" class=\"data row11 col2\" >38941264.7687</td>\n",
       "      <td id=\"T_8927b_row11_col3\" class=\"data row11 col3\" >6205.2646</td>\n",
       "      <td id=\"T_8927b_row11_col4\" class=\"data row11 col4\" >0.7075</td>\n",
       "      <td id=\"T_8927b_row11_col5\" class=\"data row11 col5\" >0.6299</td>\n",
       "      <td id=\"T_8927b_row11_col6\" class=\"data row11 col6\" >0.4566</td>\n",
       "      <td id=\"T_8927b_row11_col7\" class=\"data row11 col7\" >4.9890</td>\n",
       "    </tr>\n",
       "    <tr>\n",
       "      <th id=\"T_8927b_level0_row12\" class=\"row_heading level0 row12\" >dt</th>\n",
       "      <td id=\"T_8927b_row12_col0\" class=\"data row12 col0\" >Decision Tree Regressor</td>\n",
       "      <td id=\"T_8927b_row12_col1\" class=\"data row12 col1\" >3338.1399</td>\n",
       "      <td id=\"T_8927b_row12_col2\" class=\"data row12 col2\" >45671139.8125</td>\n",
       "      <td id=\"T_8927b_row12_col3\" class=\"data row12 col3\" >6722.0847</td>\n",
       "      <td id=\"T_8927b_row12_col4\" class=\"data row12 col4\" >0.6531</td>\n",
       "      <td id=\"T_8927b_row12_col5\" class=\"data row12 col5\" >0.5432</td>\n",
       "      <td id=\"T_8927b_row12_col6\" class=\"data row12 col6\" >0.3645</td>\n",
       "      <td id=\"T_8927b_row12_col7\" class=\"data row12 col7\" >0.0830</td>\n",
       "    </tr>\n",
       "    <tr>\n",
       "      <th id=\"T_8927b_level0_row13\" class=\"row_heading level0 row13\" >en</th>\n",
       "      <td id=\"T_8927b_row13_col0\" class=\"data row13 col0\" >Elastic Net</td>\n",
       "      <td id=\"T_8927b_row13_col1\" class=\"data row13 col1\" >5396.7721</td>\n",
       "      <td id=\"T_8927b_row13_col2\" class=\"data row13 col2\" >50900217.4103</td>\n",
       "      <td id=\"T_8927b_row13_col3\" class=\"data row13 col3\" >7084.9195</td>\n",
       "      <td id=\"T_8927b_row13_col4\" class=\"data row13 col4\" >0.6344</td>\n",
       "      <td id=\"T_8927b_row13_col5\" class=\"data row13 col5\" >0.6477</td>\n",
       "      <td id=\"T_8927b_row13_col6\" class=\"data row13 col6\" >0.7480</td>\n",
       "      <td id=\"T_8927b_row13_col7\" class=\"data row13 col7\" >0.0800</td>\n",
       "    </tr>\n",
       "    <tr>\n",
       "      <th id=\"T_8927b_level0_row14\" class=\"row_heading level0 row14\" >par</th>\n",
       "      <td id=\"T_8927b_row14_col0\" class=\"data row14 col0\" >Passive Aggressive Regressor</td>\n",
       "      <td id=\"T_8927b_row14_col1\" class=\"data row14 col1\" >3563.3470</td>\n",
       "      <td id=\"T_8927b_row14_col2\" class=\"data row14 col2\" >50307982.9510</td>\n",
       "      <td id=\"T_8927b_row14_col3\" class=\"data row14 col3\" >7022.5039</td>\n",
       "      <td id=\"T_8927b_row14_col4\" class=\"data row14 col4\" >0.6169</td>\n",
       "      <td id=\"T_8927b_row14_col5\" class=\"data row14 col5\" >0.4764</td>\n",
       "      <td id=\"T_8927b_row14_col6\" class=\"data row14 col6\" >0.2245</td>\n",
       "      <td id=\"T_8927b_row14_col7\" class=\"data row14 col7\" >0.1020</td>\n",
       "    </tr>\n",
       "    <tr>\n",
       "      <th id=\"T_8927b_level0_row15\" class=\"row_heading level0 row15\" >huber</th>\n",
       "      <td id=\"T_8927b_row15_col0\" class=\"data row15 col0\" >Huber Regressor</td>\n",
       "      <td id=\"T_8927b_row15_col1\" class=\"data row15 col1\" >3565.0919</td>\n",
       "      <td id=\"T_8927b_row15_col2\" class=\"data row15 col2\" >50302826.8408</td>\n",
       "      <td id=\"T_8927b_row15_col3\" class=\"data row15 col3\" >7021.0464</td>\n",
       "      <td id=\"T_8927b_row15_col4\" class=\"data row15 col4\" >0.6169</td>\n",
       "      <td id=\"T_8927b_row15_col5\" class=\"data row15 col5\" >0.4680</td>\n",
       "      <td id=\"T_8927b_row15_col6\" class=\"data row15 col6\" >0.2253</td>\n",
       "      <td id=\"T_8927b_row15_col7\" class=\"data row15 col7\" >0.0890</td>\n",
       "    </tr>\n",
       "    <tr>\n",
       "      <th id=\"T_8927b_level0_row16\" class=\"row_heading level0 row16\" >omp</th>\n",
       "      <td id=\"T_8927b_row16_col0\" class=\"data row16 col0\" >Orthogonal Matching Pursuit</td>\n",
       "      <td id=\"T_8927b_row16_col1\" class=\"data row16 col1\" >5778.2150</td>\n",
       "      <td id=\"T_8927b_row16_col2\" class=\"data row16 col2\" >57374514.1568</td>\n",
       "      <td id=\"T_8927b_row16_col3\" class=\"data row16 col3\" >7523.2954</td>\n",
       "      <td id=\"T_8927b_row16_col4\" class=\"data row16 col4\" >0.5781</td>\n",
       "      <td id=\"T_8927b_row16_col5\" class=\"data row16 col5\" >0.7363</td>\n",
       "      <td id=\"T_8927b_row16_col6\" class=\"data row16 col6\" >0.8977</td>\n",
       "      <td id=\"T_8927b_row16_col7\" class=\"data row16 col7\" >0.0800</td>\n",
       "    </tr>\n",
       "    <tr>\n",
       "      <th id=\"T_8927b_level0_row17\" class=\"row_heading level0 row17\" >dummy</th>\n",
       "      <td id=\"T_8927b_row17_col0\" class=\"data row17 col0\" >Dummy Regressor</td>\n",
       "      <td id=\"T_8927b_row17_col1\" class=\"data row17 col1\" >9210.4637</td>\n",
       "      <td id=\"T_8927b_row17_col2\" class=\"data row17 col2\" >146273893.6000</td>\n",
       "      <td id=\"T_8927b_row17_col3\" class=\"data row17 col3\" >11968.7035</td>\n",
       "      <td id=\"T_8927b_row17_col4\" class=\"data row17 col4\" >-0.0270</td>\n",
       "      <td id=\"T_8927b_row17_col5\" class=\"data row17 col5\" >1.0044</td>\n",
       "      <td id=\"T_8927b_row17_col6\" class=\"data row17 col6\" >1.5546</td>\n",
       "      <td id=\"T_8927b_row17_col7\" class=\"data row17 col7\" >0.1610</td>\n",
       "    </tr>\n",
       "  </tbody>\n",
       "</table>\n"
      ],
      "text/plain": [
       "<pandas.io.formats.style.Styler at 0x12f7a7e80>"
      ]
     },
     "metadata": {},
     "output_type": "display_data"
    },
    {
     "data": {
      "text/html": [],
      "text/plain": [
       "<IPython.core.display.HTML object>"
      ]
     },
     "metadata": {},
     "output_type": "display_data"
    }
   ],
   "source": [
    "best = compare_models()"
   ]
  },
  {
   "cell_type": "code",
   "execution_count": 51,
   "metadata": {},
   "outputs": [
    {
     "name": "stdout",
     "output_type": "stream",
     "text": [
      "GradientBoostingRegressor(random_state=7900)\n"
     ]
    }
   ],
   "source": [
    "# verificando o melhor modelo\n",
    "print(best)"
   ]
  },
  {
   "cell_type": "markdown",
   "metadata": {},
   "source": []
  },
  {
   "cell_type": "code",
   "execution_count": 52,
   "metadata": {},
   "outputs": [
    {
     "data": {
      "text/html": [
       "<div>\n",
       "<style scoped>\n",
       "    .dataframe tbody tr th:only-of-type {\n",
       "        vertical-align: middle;\n",
       "    }\n",
       "\n",
       "    .dataframe tbody tr th {\n",
       "        vertical-align: top;\n",
       "    }\n",
       "\n",
       "    .dataframe thead th {\n",
       "        text-align: right;\n",
       "    }\n",
       "</style>\n",
       "<table border=\"1\" class=\"dataframe\">\n",
       "  <thead>\n",
       "    <tr style=\"text-align: right;\">\n",
       "      <th></th>\n",
       "      <th>Name</th>\n",
       "      <th>Reference</th>\n",
       "      <th>Turbo</th>\n",
       "    </tr>\n",
       "    <tr>\n",
       "      <th>ID</th>\n",
       "      <th></th>\n",
       "      <th></th>\n",
       "      <th></th>\n",
       "    </tr>\n",
       "  </thead>\n",
       "  <tbody>\n",
       "    <tr>\n",
       "      <th>lr</th>\n",
       "      <td>Linear Regression</td>\n",
       "      <td>sklearn.linear_model._base.LinearRegression</td>\n",
       "      <td>True</td>\n",
       "    </tr>\n",
       "    <tr>\n",
       "      <th>lasso</th>\n",
       "      <td>Lasso Regression</td>\n",
       "      <td>sklearn.linear_model._coordinate_descent.Lasso</td>\n",
       "      <td>True</td>\n",
       "    </tr>\n",
       "    <tr>\n",
       "      <th>ridge</th>\n",
       "      <td>Ridge Regression</td>\n",
       "      <td>sklearn.linear_model._ridge.Ridge</td>\n",
       "      <td>True</td>\n",
       "    </tr>\n",
       "    <tr>\n",
       "      <th>en</th>\n",
       "      <td>Elastic Net</td>\n",
       "      <td>sklearn.linear_model._coordinate_descent.Elast...</td>\n",
       "      <td>True</td>\n",
       "    </tr>\n",
       "    <tr>\n",
       "      <th>lar</th>\n",
       "      <td>Least Angle Regression</td>\n",
       "      <td>sklearn.linear_model._least_angle.Lars</td>\n",
       "      <td>True</td>\n",
       "    </tr>\n",
       "    <tr>\n",
       "      <th>llar</th>\n",
       "      <td>Lasso Least Angle Regression</td>\n",
       "      <td>sklearn.linear_model._least_angle.LassoLars</td>\n",
       "      <td>True</td>\n",
       "    </tr>\n",
       "    <tr>\n",
       "      <th>omp</th>\n",
       "      <td>Orthogonal Matching Pursuit</td>\n",
       "      <td>sklearn.linear_model._omp.OrthogonalMatchingPu...</td>\n",
       "      <td>True</td>\n",
       "    </tr>\n",
       "    <tr>\n",
       "      <th>br</th>\n",
       "      <td>Bayesian Ridge</td>\n",
       "      <td>sklearn.linear_model._bayes.BayesianRidge</td>\n",
       "      <td>True</td>\n",
       "    </tr>\n",
       "    <tr>\n",
       "      <th>ard</th>\n",
       "      <td>Automatic Relevance Determination</td>\n",
       "      <td>sklearn.linear_model._bayes.ARDRegression</td>\n",
       "      <td>False</td>\n",
       "    </tr>\n",
       "    <tr>\n",
       "      <th>par</th>\n",
       "      <td>Passive Aggressive Regressor</td>\n",
       "      <td>sklearn.linear_model._passive_aggressive.Passi...</td>\n",
       "      <td>True</td>\n",
       "    </tr>\n",
       "    <tr>\n",
       "      <th>ransac</th>\n",
       "      <td>Random Sample Consensus</td>\n",
       "      <td>sklearn.linear_model._ransac.RANSACRegressor</td>\n",
       "      <td>False</td>\n",
       "    </tr>\n",
       "    <tr>\n",
       "      <th>tr</th>\n",
       "      <td>TheilSen Regressor</td>\n",
       "      <td>sklearn.linear_model._theil_sen.TheilSenRegressor</td>\n",
       "      <td>False</td>\n",
       "    </tr>\n",
       "    <tr>\n",
       "      <th>huber</th>\n",
       "      <td>Huber Regressor</td>\n",
       "      <td>sklearn.linear_model._huber.HuberRegressor</td>\n",
       "      <td>True</td>\n",
       "    </tr>\n",
       "    <tr>\n",
       "      <th>kr</th>\n",
       "      <td>Kernel Ridge</td>\n",
       "      <td>sklearn.kernel_ridge.KernelRidge</td>\n",
       "      <td>False</td>\n",
       "    </tr>\n",
       "    <tr>\n",
       "      <th>svm</th>\n",
       "      <td>Support Vector Regression</td>\n",
       "      <td>sklearn.svm._classes.SVR</td>\n",
       "      <td>False</td>\n",
       "    </tr>\n",
       "    <tr>\n",
       "      <th>knn</th>\n",
       "      <td>K Neighbors Regressor</td>\n",
       "      <td>sklearn.neighbors._regression.KNeighborsRegressor</td>\n",
       "      <td>True</td>\n",
       "    </tr>\n",
       "    <tr>\n",
       "      <th>dt</th>\n",
       "      <td>Decision Tree Regressor</td>\n",
       "      <td>sklearn.tree._classes.DecisionTreeRegressor</td>\n",
       "      <td>True</td>\n",
       "    </tr>\n",
       "    <tr>\n",
       "      <th>rf</th>\n",
       "      <td>Random Forest Regressor</td>\n",
       "      <td>sklearn.ensemble._forest.RandomForestRegressor</td>\n",
       "      <td>True</td>\n",
       "    </tr>\n",
       "    <tr>\n",
       "      <th>et</th>\n",
       "      <td>Extra Trees Regressor</td>\n",
       "      <td>sklearn.ensemble._forest.ExtraTreesRegressor</td>\n",
       "      <td>True</td>\n",
       "    </tr>\n",
       "    <tr>\n",
       "      <th>ada</th>\n",
       "      <td>AdaBoost Regressor</td>\n",
       "      <td>sklearn.ensemble._weight_boosting.AdaBoostRegr...</td>\n",
       "      <td>True</td>\n",
       "    </tr>\n",
       "    <tr>\n",
       "      <th>gbr</th>\n",
       "      <td>Gradient Boosting Regressor</td>\n",
       "      <td>sklearn.ensemble._gb.GradientBoostingRegressor</td>\n",
       "      <td>True</td>\n",
       "    </tr>\n",
       "    <tr>\n",
       "      <th>mlp</th>\n",
       "      <td>MLP Regressor</td>\n",
       "      <td>sklearn.neural_network._multilayer_perceptron....</td>\n",
       "      <td>False</td>\n",
       "    </tr>\n",
       "    <tr>\n",
       "      <th>lightgbm</th>\n",
       "      <td>Light Gradient Boosting Machine</td>\n",
       "      <td>lightgbm.sklearn.LGBMRegressor</td>\n",
       "      <td>True</td>\n",
       "    </tr>\n",
       "    <tr>\n",
       "      <th>dummy</th>\n",
       "      <td>Dummy Regressor</td>\n",
       "      <td>sklearn.dummy.DummyRegressor</td>\n",
       "      <td>True</td>\n",
       "    </tr>\n",
       "  </tbody>\n",
       "</table>\n",
       "</div>"
      ],
      "text/plain": [
       "                                       Name  \\\n",
       "ID                                            \n",
       "lr                        Linear Regression   \n",
       "lasso                      Lasso Regression   \n",
       "ridge                      Ridge Regression   \n",
       "en                              Elastic Net   \n",
       "lar                  Least Angle Regression   \n",
       "llar           Lasso Least Angle Regression   \n",
       "omp             Orthogonal Matching Pursuit   \n",
       "br                           Bayesian Ridge   \n",
       "ard       Automatic Relevance Determination   \n",
       "par            Passive Aggressive Regressor   \n",
       "ransac              Random Sample Consensus   \n",
       "tr                       TheilSen Regressor   \n",
       "huber                       Huber Regressor   \n",
       "kr                             Kernel Ridge   \n",
       "svm               Support Vector Regression   \n",
       "knn                   K Neighbors Regressor   \n",
       "dt                  Decision Tree Regressor   \n",
       "rf                  Random Forest Regressor   \n",
       "et                    Extra Trees Regressor   \n",
       "ada                      AdaBoost Regressor   \n",
       "gbr             Gradient Boosting Regressor   \n",
       "mlp                           MLP Regressor   \n",
       "lightgbm    Light Gradient Boosting Machine   \n",
       "dummy                       Dummy Regressor   \n",
       "\n",
       "                                                  Reference  Turbo  \n",
       "ID                                                                  \n",
       "lr              sklearn.linear_model._base.LinearRegression   True  \n",
       "lasso        sklearn.linear_model._coordinate_descent.Lasso   True  \n",
       "ridge                     sklearn.linear_model._ridge.Ridge   True  \n",
       "en        sklearn.linear_model._coordinate_descent.Elast...   True  \n",
       "lar                  sklearn.linear_model._least_angle.Lars   True  \n",
       "llar            sklearn.linear_model._least_angle.LassoLars   True  \n",
       "omp       sklearn.linear_model._omp.OrthogonalMatchingPu...   True  \n",
       "br                sklearn.linear_model._bayes.BayesianRidge   True  \n",
       "ard               sklearn.linear_model._bayes.ARDRegression  False  \n",
       "par       sklearn.linear_model._passive_aggressive.Passi...   True  \n",
       "ransac         sklearn.linear_model._ransac.RANSACRegressor  False  \n",
       "tr        sklearn.linear_model._theil_sen.TheilSenRegressor  False  \n",
       "huber            sklearn.linear_model._huber.HuberRegressor   True  \n",
       "kr                         sklearn.kernel_ridge.KernelRidge  False  \n",
       "svm                                sklearn.svm._classes.SVR  False  \n",
       "knn       sklearn.neighbors._regression.KNeighborsRegressor   True  \n",
       "dt              sklearn.tree._classes.DecisionTreeRegressor   True  \n",
       "rf           sklearn.ensemble._forest.RandomForestRegressor   True  \n",
       "et             sklearn.ensemble._forest.ExtraTreesRegressor   True  \n",
       "ada       sklearn.ensemble._weight_boosting.AdaBoostRegr...   True  \n",
       "gbr          sklearn.ensemble._gb.GradientBoostingRegressor   True  \n",
       "mlp       sklearn.neural_network._multilayer_perceptron....  False  \n",
       "lightgbm                     lightgbm.sklearn.LGBMRegressor   True  \n",
       "dummy                          sklearn.dummy.DummyRegressor   True  "
      ]
     },
     "execution_count": 52,
     "metadata": {},
     "output_type": "execute_result"
    }
   ],
   "source": [
    "# verificando os modelos\n",
    "models()"
   ]
  },
  {
   "cell_type": "markdown",
   "metadata": {},
   "source": [
    "about the model I ll choose"
   ]
  },
  {
   "cell_type": "markdown",
   "metadata": {},
   "source": [
    "Instanciando os modelos ( compara_models n retorna os modleos treinados)"
   ]
  },
  {
   "cell_type": "code",
   "execution_count": 55,
   "metadata": {},
   "outputs": [
    {
     "data": {
      "text/html": [],
      "text/plain": [
       "<IPython.core.display.HTML object>"
      ]
     },
     "metadata": {},
     "output_type": "display_data"
    },
    {
     "data": {
      "text/html": [
       "<style type=\"text/css\">\n",
       "#T_1b6a5_row10_col0, #T_1b6a5_row10_col1, #T_1b6a5_row10_col2, #T_1b6a5_row10_col3, #T_1b6a5_row10_col4, #T_1b6a5_row10_col5 {\n",
       "  background: yellow;\n",
       "}\n",
       "</style>\n",
       "<table id=\"T_1b6a5\">\n",
       "  <thead>\n",
       "    <tr>\n",
       "      <th class=\"blank level0\" >&nbsp;</th>\n",
       "      <th id=\"T_1b6a5_level0_col0\" class=\"col_heading level0 col0\" >MAE</th>\n",
       "      <th id=\"T_1b6a5_level0_col1\" class=\"col_heading level0 col1\" >MSE</th>\n",
       "      <th id=\"T_1b6a5_level0_col2\" class=\"col_heading level0 col2\" >RMSE</th>\n",
       "      <th id=\"T_1b6a5_level0_col3\" class=\"col_heading level0 col3\" >R2</th>\n",
       "      <th id=\"T_1b6a5_level0_col4\" class=\"col_heading level0 col4\" >RMSLE</th>\n",
       "      <th id=\"T_1b6a5_level0_col5\" class=\"col_heading level0 col5\" >MAPE</th>\n",
       "    </tr>\n",
       "    <tr>\n",
       "      <th class=\"index_name level0\" >Fold</th>\n",
       "      <th class=\"blank col0\" >&nbsp;</th>\n",
       "      <th class=\"blank col1\" >&nbsp;</th>\n",
       "      <th class=\"blank col2\" >&nbsp;</th>\n",
       "      <th class=\"blank col3\" >&nbsp;</th>\n",
       "      <th class=\"blank col4\" >&nbsp;</th>\n",
       "      <th class=\"blank col5\" >&nbsp;</th>\n",
       "    </tr>\n",
       "  </thead>\n",
       "  <tbody>\n",
       "    <tr>\n",
       "      <th id=\"T_1b6a5_level0_row0\" class=\"row_heading level0 row0\" >0</th>\n",
       "      <td id=\"T_1b6a5_row0_col0\" class=\"data row0 col0\" >2840.6975</td>\n",
       "      <td id=\"T_1b6a5_row0_col1\" class=\"data row0 col1\" >24745553.7737</td>\n",
       "      <td id=\"T_1b6a5_row0_col2\" class=\"data row0 col2\" >4974.4903</td>\n",
       "      <td id=\"T_1b6a5_row0_col3\" class=\"data row0 col3\" >0.8388</td>\n",
       "      <td id=\"T_1b6a5_row0_col4\" class=\"data row0 col4\" >0.4809</td>\n",
       "      <td id=\"T_1b6a5_row0_col5\" class=\"data row0 col5\" >0.3764</td>\n",
       "    </tr>\n",
       "    <tr>\n",
       "      <th id=\"T_1b6a5_level0_row1\" class=\"row_heading level0 row1\" >1</th>\n",
       "      <td id=\"T_1b6a5_row1_col0\" class=\"data row1 col0\" >3107.7654</td>\n",
       "      <td id=\"T_1b6a5_row1_col1\" class=\"data row1 col1\" >28508601.5139</td>\n",
       "      <td id=\"T_1b6a5_row1_col2\" class=\"data row1 col2\" >5339.3447</td>\n",
       "      <td id=\"T_1b6a5_row1_col3\" class=\"data row1 col3\" >0.6900</td>\n",
       "      <td id=\"T_1b6a5_row1_col4\" class=\"data row1 col4\" >0.5035</td>\n",
       "      <td id=\"T_1b6a5_row1_col5\" class=\"data row1 col5\" >0.4088</td>\n",
       "    </tr>\n",
       "    <tr>\n",
       "      <th id=\"T_1b6a5_level0_row2\" class=\"row_heading level0 row2\" >2</th>\n",
       "      <td id=\"T_1b6a5_row2_col0\" class=\"data row2 col0\" >2832.0196</td>\n",
       "      <td id=\"T_1b6a5_row2_col1\" class=\"data row2 col1\" >27066743.8597</td>\n",
       "      <td id=\"T_1b6a5_row2_col2\" class=\"data row2 col2\" >5202.5709</td>\n",
       "      <td id=\"T_1b6a5_row2_col3\" class=\"data row2 col3\" >0.8709</td>\n",
       "      <td id=\"T_1b6a5_row2_col4\" class=\"data row2 col4\" >0.4068</td>\n",
       "      <td id=\"T_1b6a5_row2_col5\" class=\"data row2 col5\" >0.3071</td>\n",
       "    </tr>\n",
       "    <tr>\n",
       "      <th id=\"T_1b6a5_level0_row3\" class=\"row_heading level0 row3\" >3</th>\n",
       "      <td id=\"T_1b6a5_row3_col0\" class=\"data row3 col0\" >2574.4394</td>\n",
       "      <td id=\"T_1b6a5_row3_col1\" class=\"data row3 col1\" >18923503.0644</td>\n",
       "      <td id=\"T_1b6a5_row3_col2\" class=\"data row3 col2\" >4350.1153</td>\n",
       "      <td id=\"T_1b6a5_row3_col3\" class=\"data row3 col3\" >0.9088</td>\n",
       "      <td id=\"T_1b6a5_row3_col4\" class=\"data row3 col4\" >0.3637</td>\n",
       "      <td id=\"T_1b6a5_row3_col5\" class=\"data row3 col5\" >0.2743</td>\n",
       "    </tr>\n",
       "    <tr>\n",
       "      <th id=\"T_1b6a5_level0_row4\" class=\"row_heading level0 row4\" >4</th>\n",
       "      <td id=\"T_1b6a5_row4_col0\" class=\"data row4 col0\" >2409.4159</td>\n",
       "      <td id=\"T_1b6a5_row4_col1\" class=\"data row4 col1\" >16702424.6364</td>\n",
       "      <td id=\"T_1b6a5_row4_col2\" class=\"data row4 col2\" >4086.8600</td>\n",
       "      <td id=\"T_1b6a5_row4_col3\" class=\"data row4 col3\" >0.8594</td>\n",
       "      <td id=\"T_1b6a5_row4_col4\" class=\"data row4 col4\" >0.4168</td>\n",
       "      <td id=\"T_1b6a5_row4_col5\" class=\"data row4 col5\" >0.2374</td>\n",
       "    </tr>\n",
       "    <tr>\n",
       "      <th id=\"T_1b6a5_level0_row5\" class=\"row_heading level0 row5\" >5</th>\n",
       "      <td id=\"T_1b6a5_row5_col0\" class=\"data row5 col0\" >3525.8828</td>\n",
       "      <td id=\"T_1b6a5_row5_col1\" class=\"data row5 col1\" >34824496.7962</td>\n",
       "      <td id=\"T_1b6a5_row5_col2\" class=\"data row5 col2\" >5901.2284</td>\n",
       "      <td id=\"T_1b6a5_row5_col3\" class=\"data row5 col3\" >0.6522</td>\n",
       "      <td id=\"T_1b6a5_row5_col4\" class=\"data row5 col4\" >0.5711</td>\n",
       "      <td id=\"T_1b6a5_row5_col5\" class=\"data row5 col5\" >0.3565</td>\n",
       "    </tr>\n",
       "    <tr>\n",
       "      <th id=\"T_1b6a5_level0_row6\" class=\"row_heading level0 row6\" >6</th>\n",
       "      <td id=\"T_1b6a5_row6_col0\" class=\"data row6 col0\" >2880.7866</td>\n",
       "      <td id=\"T_1b6a5_row6_col1\" class=\"data row6 col1\" >21951467.9848</td>\n",
       "      <td id=\"T_1b6a5_row6_col2\" class=\"data row6 col2\" >4685.2394</td>\n",
       "      <td id=\"T_1b6a5_row6_col3\" class=\"data row6 col3\" >0.7844</td>\n",
       "      <td id=\"T_1b6a5_row6_col4\" class=\"data row6 col4\" >0.4239</td>\n",
       "      <td id=\"T_1b6a5_row6_col5\" class=\"data row6 col5\" >0.3219</td>\n",
       "    </tr>\n",
       "    <tr>\n",
       "      <th id=\"T_1b6a5_level0_row7\" class=\"row_heading level0 row7\" >7</th>\n",
       "      <td id=\"T_1b6a5_row7_col0\" class=\"data row7 col0\" >3061.1520</td>\n",
       "      <td id=\"T_1b6a5_row7_col1\" class=\"data row7 col1\" >33761343.0797</td>\n",
       "      <td id=\"T_1b6a5_row7_col2\" class=\"data row7 col2\" >5810.4512</td>\n",
       "      <td id=\"T_1b6a5_row7_col3\" class=\"data row7 col3\" >0.8139</td>\n",
       "      <td id=\"T_1b6a5_row7_col4\" class=\"data row7 col4\" >0.5385</td>\n",
       "      <td id=\"T_1b6a5_row7_col5\" class=\"data row7 col5\" >0.2778</td>\n",
       "    </tr>\n",
       "    <tr>\n",
       "      <th id=\"T_1b6a5_level0_row8\" class=\"row_heading level0 row8\" >8</th>\n",
       "      <td id=\"T_1b6a5_row8_col0\" class=\"data row8 col0\" >2153.8559</td>\n",
       "      <td id=\"T_1b6a5_row8_col1\" class=\"data row8 col1\" >10668898.5877</td>\n",
       "      <td id=\"T_1b6a5_row8_col2\" class=\"data row8 col2\" >3266.3280</td>\n",
       "      <td id=\"T_1b6a5_row8_col3\" class=\"data row8 col3\" >0.9109</td>\n",
       "      <td id=\"T_1b6a5_row8_col4\" class=\"data row8 col4\" >0.3597</td>\n",
       "      <td id=\"T_1b6a5_row8_col5\" class=\"data row8 col5\" >0.2982</td>\n",
       "    </tr>\n",
       "    <tr>\n",
       "      <th id=\"T_1b6a5_level0_row9\" class=\"row_heading level0 row9\" >9</th>\n",
       "      <td id=\"T_1b6a5_row9_col0\" class=\"data row9 col0\" >2996.2238</td>\n",
       "      <td id=\"T_1b6a5_row9_col1\" class=\"data row9 col1\" >25931578.5724</td>\n",
       "      <td id=\"T_1b6a5_row9_col2\" class=\"data row9 col2\" >5092.3058</td>\n",
       "      <td id=\"T_1b6a5_row9_col3\" class=\"data row9 col3\" >0.8165</td>\n",
       "      <td id=\"T_1b6a5_row9_col4\" class=\"data row9 col4\" >0.4834</td>\n",
       "      <td id=\"T_1b6a5_row9_col5\" class=\"data row9 col5\" >0.3119</td>\n",
       "    </tr>\n",
       "    <tr>\n",
       "      <th id=\"T_1b6a5_level0_row10\" class=\"row_heading level0 row10\" >Mean</th>\n",
       "      <td id=\"T_1b6a5_row10_col0\" class=\"data row10 col0\" >2838.2239</td>\n",
       "      <td id=\"T_1b6a5_row10_col1\" class=\"data row10 col1\" >24308461.1869</td>\n",
       "      <td id=\"T_1b6a5_row10_col2\" class=\"data row10 col2\" >4870.8934</td>\n",
       "      <td id=\"T_1b6a5_row10_col3\" class=\"data row10 col3\" >0.8146</td>\n",
       "      <td id=\"T_1b6a5_row10_col4\" class=\"data row10 col4\" >0.4548</td>\n",
       "      <td id=\"T_1b6a5_row10_col5\" class=\"data row10 col5\" >0.3170</td>\n",
       "    </tr>\n",
       "    <tr>\n",
       "      <th id=\"T_1b6a5_level0_row11\" class=\"row_heading level0 row11\" >Std</th>\n",
       "      <td id=\"T_1b6a5_row11_col0\" class=\"data row11 col0\" >366.5873</td>\n",
       "      <td id=\"T_1b6a5_row11_col1\" class=\"data row11 col1\" >7116610.8078</td>\n",
       "      <td id=\"T_1b6a5_row11_col2\" class=\"data row11 col2\" >763.4518</td>\n",
       "      <td id=\"T_1b6a5_row11_col3\" class=\"data row11 col3\" >0.0817</td>\n",
       "      <td id=\"T_1b6a5_row11_col4\" class=\"data row11 col4\" >0.0682</td>\n",
       "      <td id=\"T_1b6a5_row11_col5\" class=\"data row11 col5\" >0.0487</td>\n",
       "    </tr>\n",
       "  </tbody>\n",
       "</table>\n"
      ],
      "text/plain": [
       "<pandas.io.formats.style.Styler at 0x130110e20>"
      ]
     },
     "metadata": {},
     "output_type": "display_data"
    },
    {
     "data": {
      "text/html": [],
      "text/plain": [
       "<IPython.core.display.HTML object>"
      ]
     },
     "metadata": {},
     "output_type": "display_data"
    }
   ],
   "source": [
    "# instanciando o modelo\n",
    "gbr = create_model('gbr')"
   ]
  },
  {
   "cell_type": "code",
   "execution_count": 58,
   "metadata": {},
   "outputs": [
    {
     "name": "stdout",
     "output_type": "stream",
     "text": [
      "GradientBoostingRegressor(random_state=7900)\n"
     ]
    }
   ],
   "source": [
    "# verificando os parâmetros\n",
    "print(gbr)"
   ]
  },
  {
   "cell_type": "markdown",
   "metadata": {},
   "source": [
    "### Tuning do modelo"
   ]
  },
  {
   "cell_type": "code",
   "execution_count": 59,
   "metadata": {},
   "outputs": [
    {
     "data": {
      "text/html": [],
      "text/plain": [
       "<IPython.core.display.HTML object>"
      ]
     },
     "metadata": {},
     "output_type": "display_data"
    },
    {
     "data": {
      "text/html": [
       "<style type=\"text/css\">\n",
       "#T_31588_row10_col0, #T_31588_row10_col1, #T_31588_row10_col2, #T_31588_row10_col3, #T_31588_row10_col4, #T_31588_row10_col5 {\n",
       "  background: yellow;\n",
       "}\n",
       "</style>\n",
       "<table id=\"T_31588\">\n",
       "  <thead>\n",
       "    <tr>\n",
       "      <th class=\"blank level0\" >&nbsp;</th>\n",
       "      <th id=\"T_31588_level0_col0\" class=\"col_heading level0 col0\" >MAE</th>\n",
       "      <th id=\"T_31588_level0_col1\" class=\"col_heading level0 col1\" >MSE</th>\n",
       "      <th id=\"T_31588_level0_col2\" class=\"col_heading level0 col2\" >RMSE</th>\n",
       "      <th id=\"T_31588_level0_col3\" class=\"col_heading level0 col3\" >R2</th>\n",
       "      <th id=\"T_31588_level0_col4\" class=\"col_heading level0 col4\" >RMSLE</th>\n",
       "      <th id=\"T_31588_level0_col5\" class=\"col_heading level0 col5\" >MAPE</th>\n",
       "    </tr>\n",
       "    <tr>\n",
       "      <th class=\"index_name level0\" >Fold</th>\n",
       "      <th class=\"blank col0\" >&nbsp;</th>\n",
       "      <th class=\"blank col1\" >&nbsp;</th>\n",
       "      <th class=\"blank col2\" >&nbsp;</th>\n",
       "      <th class=\"blank col3\" >&nbsp;</th>\n",
       "      <th class=\"blank col4\" >&nbsp;</th>\n",
       "      <th class=\"blank col5\" >&nbsp;</th>\n",
       "    </tr>\n",
       "  </thead>\n",
       "  <tbody>\n",
       "    <tr>\n",
       "      <th id=\"T_31588_level0_row0\" class=\"row_heading level0 row0\" >0</th>\n",
       "      <td id=\"T_31588_row0_col0\" class=\"data row0 col0\" >2629.1089</td>\n",
       "      <td id=\"T_31588_row0_col1\" class=\"data row0 col1\" >17639725.9984</td>\n",
       "      <td id=\"T_31588_row0_col2\" class=\"data row0 col2\" >4199.9674</td>\n",
       "      <td id=\"T_31588_row0_col3\" class=\"data row0 col3\" >0.8851</td>\n",
       "      <td id=\"T_31588_row0_col4\" class=\"data row0 col4\" >0.5916</td>\n",
       "      <td id=\"T_31588_row0_col5\" class=\"data row0 col5\" >0.3479</td>\n",
       "    </tr>\n",
       "    <tr>\n",
       "      <th id=\"T_31588_level0_row1\" class=\"row_heading level0 row1\" >1</th>\n",
       "      <td id=\"T_31588_row1_col0\" class=\"data row1 col0\" >3246.6796</td>\n",
       "      <td id=\"T_31588_row1_col1\" class=\"data row1 col1\" >33318609.9012</td>\n",
       "      <td id=\"T_31588_row1_col2\" class=\"data row1 col2\" >5772.2275</td>\n",
       "      <td id=\"T_31588_row1_col3\" class=\"data row1 col3\" >0.6377</td>\n",
       "      <td id=\"T_31588_row1_col4\" class=\"data row1 col4\" >0.5809</td>\n",
       "      <td id=\"T_31588_row1_col5\" class=\"data row1 col5\" >0.4606</td>\n",
       "    </tr>\n",
       "    <tr>\n",
       "      <th id=\"T_31588_level0_row2\" class=\"row_heading level0 row2\" >2</th>\n",
       "      <td id=\"T_31588_row2_col0\" class=\"data row2 col0\" >3045.2323</td>\n",
       "      <td id=\"T_31588_row2_col1\" class=\"data row2 col1\" >28680283.9741</td>\n",
       "      <td id=\"T_31588_row2_col2\" class=\"data row2 col2\" >5355.3976</td>\n",
       "      <td id=\"T_31588_row2_col3\" class=\"data row2 col3\" >0.8632</td>\n",
       "      <td id=\"T_31588_row2_col4\" class=\"data row2 col4\" >0.4589</td>\n",
       "      <td id=\"T_31588_row2_col5\" class=\"data row2 col5\" >0.3690</td>\n",
       "    </tr>\n",
       "    <tr>\n",
       "      <th id=\"T_31588_level0_row3\" class=\"row_heading level0 row3\" >3</th>\n",
       "      <td id=\"T_31588_row3_col0\" class=\"data row3 col0\" >2724.2220</td>\n",
       "      <td id=\"T_31588_row3_col1\" class=\"data row3 col1\" >20401215.2356</td>\n",
       "      <td id=\"T_31588_row3_col2\" class=\"data row3 col2\" >4516.7704</td>\n",
       "      <td id=\"T_31588_row3_col3\" class=\"data row3 col3\" >0.9017</td>\n",
       "      <td id=\"T_31588_row3_col4\" class=\"data row3 col4\" >0.4847</td>\n",
       "      <td id=\"T_31588_row3_col5\" class=\"data row3 col5\" >0.3039</td>\n",
       "    </tr>\n",
       "    <tr>\n",
       "      <th id=\"T_31588_level0_row4\" class=\"row_heading level0 row4\" >4</th>\n",
       "      <td id=\"T_31588_row4_col0\" class=\"data row4 col0\" >2531.7154</td>\n",
       "      <td id=\"T_31588_row4_col1\" class=\"data row4 col1\" >16164193.3417</td>\n",
       "      <td id=\"T_31588_row4_col2\" class=\"data row4 col2\" >4020.4718</td>\n",
       "      <td id=\"T_31588_row4_col3\" class=\"data row4 col3\" >0.8639</td>\n",
       "      <td id=\"T_31588_row4_col4\" class=\"data row4 col4\" >0.7154</td>\n",
       "      <td id=\"T_31588_row4_col5\" class=\"data row4 col5\" >0.2867</td>\n",
       "    </tr>\n",
       "    <tr>\n",
       "      <th id=\"T_31588_level0_row5\" class=\"row_heading level0 row5\" >5</th>\n",
       "      <td id=\"T_31588_row5_col0\" class=\"data row5 col0\" >3646.5565</td>\n",
       "      <td id=\"T_31588_row5_col1\" class=\"data row5 col1\" >35606779.7427</td>\n",
       "      <td id=\"T_31588_row5_col2\" class=\"data row5 col2\" >5967.1417</td>\n",
       "      <td id=\"T_31588_row5_col3\" class=\"data row5 col3\" >0.6444</td>\n",
       "      <td id=\"T_31588_row5_col4\" class=\"data row5 col4\" >0.6342</td>\n",
       "      <td id=\"T_31588_row5_col5\" class=\"data row5 col5\" >0.4223</td>\n",
       "    </tr>\n",
       "    <tr>\n",
       "      <th id=\"T_31588_level0_row6\" class=\"row_heading level0 row6\" >6</th>\n",
       "      <td id=\"T_31588_row6_col0\" class=\"data row6 col0\" >2795.3572</td>\n",
       "      <td id=\"T_31588_row6_col1\" class=\"data row6 col1\" >22518605.0681</td>\n",
       "      <td id=\"T_31588_row6_col2\" class=\"data row6 col2\" >4745.3772</td>\n",
       "      <td id=\"T_31588_row6_col3\" class=\"data row6 col3\" >0.7788</td>\n",
       "      <td id=\"T_31588_row6_col4\" class=\"data row6 col4\" >0.4307</td>\n",
       "      <td id=\"T_31588_row6_col5\" class=\"data row6 col5\" >0.3042</td>\n",
       "    </tr>\n",
       "    <tr>\n",
       "      <th id=\"T_31588_level0_row7\" class=\"row_heading level0 row7\" >7</th>\n",
       "      <td id=\"T_31588_row7_col0\" class=\"data row7 col0\" >2877.2909</td>\n",
       "      <td id=\"T_31588_row7_col1\" class=\"data row7 col1\" >32793836.2534</td>\n",
       "      <td id=\"T_31588_row7_col2\" class=\"data row7 col2\" >5726.5903</td>\n",
       "      <td id=\"T_31588_row7_col3\" class=\"data row7 col3\" >0.8192</td>\n",
       "      <td id=\"T_31588_row7_col4\" class=\"data row7 col4\" >0.5477</td>\n",
       "      <td id=\"T_31588_row7_col5\" class=\"data row7 col5\" >0.2485</td>\n",
       "    </tr>\n",
       "    <tr>\n",
       "      <th id=\"T_31588_level0_row8\" class=\"row_heading level0 row8\" >8</th>\n",
       "      <td id=\"T_31588_row8_col0\" class=\"data row8 col0\" >2249.8202</td>\n",
       "      <td id=\"T_31588_row8_col1\" class=\"data row8 col1\" >12510009.8812</td>\n",
       "      <td id=\"T_31588_row8_col2\" class=\"data row8 col2\" >3536.9492</td>\n",
       "      <td id=\"T_31588_row8_col3\" class=\"data row8 col3\" >0.8955</td>\n",
       "      <td id=\"T_31588_row8_col4\" class=\"data row8 col4\" >0.3957</td>\n",
       "      <td id=\"T_31588_row8_col5\" class=\"data row8 col5\" >0.3263</td>\n",
       "    </tr>\n",
       "    <tr>\n",
       "      <th id=\"T_31588_level0_row9\" class=\"row_heading level0 row9\" >9</th>\n",
       "      <td id=\"T_31588_row9_col0\" class=\"data row9 col0\" >3407.2898</td>\n",
       "      <td id=\"T_31588_row9_col1\" class=\"data row9 col1\" >30810067.8350</td>\n",
       "      <td id=\"T_31588_row9_col2\" class=\"data row9 col2\" >5550.6817</td>\n",
       "      <td id=\"T_31588_row9_col3\" class=\"data row9 col3\" >0.7820</td>\n",
       "      <td id=\"T_31588_row9_col4\" class=\"data row9 col4\" >0.6217</td>\n",
       "      <td id=\"T_31588_row9_col5\" class=\"data row9 col5\" >0.4085</td>\n",
       "    </tr>\n",
       "    <tr>\n",
       "      <th id=\"T_31588_level0_row10\" class=\"row_heading level0 row10\" >Mean</th>\n",
       "      <td id=\"T_31588_row10_col0\" class=\"data row10 col0\" >2915.3273</td>\n",
       "      <td id=\"T_31588_row10_col1\" class=\"data row10 col1\" >25044332.7231</td>\n",
       "      <td id=\"T_31588_row10_col2\" class=\"data row10 col2\" >4939.1575</td>\n",
       "      <td id=\"T_31588_row10_col3\" class=\"data row10 col3\" >0.8071</td>\n",
       "      <td id=\"T_31588_row10_col4\" class=\"data row10 col4\" >0.5461</td>\n",
       "      <td id=\"T_31588_row10_col5\" class=\"data row10 col5\" >0.3478</td>\n",
       "    </tr>\n",
       "    <tr>\n",
       "      <th id=\"T_31588_level0_row11\" class=\"row_heading level0 row11\" >Std</th>\n",
       "      <td id=\"T_31588_row11_col0\" class=\"data row11 col0\" >403.4517</td>\n",
       "      <td id=\"T_31588_row11_col1\" class=\"data row11 col1\" >7779972.7711</td>\n",
       "      <td id=\"T_31588_row11_col2\" class=\"data row11 col2\" >805.6401</td>\n",
       "      <td id=\"T_31588_row11_col3\" class=\"data row11 col3\" >0.0927</td>\n",
       "      <td id=\"T_31588_row11_col4\" class=\"data row11 col4\" >0.0963</td>\n",
       "      <td id=\"T_31588_row11_col5\" class=\"data row11 col5\" >0.0635</td>\n",
       "    </tr>\n",
       "  </tbody>\n",
       "</table>\n"
      ],
      "text/plain": [
       "<pandas.io.formats.style.Styler at 0x12ff87280>"
      ]
     },
     "metadata": {},
     "output_type": "display_data"
    },
    {
     "data": {
      "text/html": [],
      "text/plain": [
       "<IPython.core.display.HTML object>"
      ]
     },
     "metadata": {},
     "output_type": "display_data"
    },
    {
     "name": "stdout",
     "output_type": "stream",
     "text": [
      "Fitting 10 folds for each of 10 candidates, totalling 100 fits\n",
      "Original model was better than the tuned model, hence it will be returned. NOTE: The display metrics are for the tuned model (not the original one).\n"
     ]
    }
   ],
   "source": [
    "# tuning de parâmetros\n",
    "tuned_gbr = tune_model(gbr, optimize='R2')"
   ]
  },
  {
   "cell_type": "code",
   "execution_count": 60,
   "metadata": {},
   "outputs": [
    {
     "name": "stdout",
     "output_type": "stream",
     "text": [
      "GradientBoostingRegressor(random_state=7900)\n"
     ]
    }
   ],
   "source": [
    "# veriificando os parâmetros\n",
    "print(tuned_gbr)"
   ]
  },
  {
   "cell_type": "markdown",
   "metadata": {},
   "source": [
    "### Plotando os modelos"
   ]
  },
  {
   "cell_type": "code",
   "execution_count": 61,
   "metadata": {},
   "outputs": [
    {
     "data": {
      "text/html": [],
      "text/plain": [
       "<IPython.core.display.HTML object>"
      ]
     },
     "metadata": {},
     "output_type": "display_data"
    },
    {
     "data": {
      "image/png": "[encoded data removed]",
      "text/plain": [
       "<Figure size 800x550 with 1 Axes>"
      ]
     },
     "metadata": {},
     "output_type": "display_data"
    }
   ],
   "source": [
    "# plotando matriz de confusão\n",
    "plot_model(tuned_gbr, plot='error')"
   ]
  },
  {
   "cell_type": "code",
   "execution_count": 62,
   "metadata": {},
   "outputs": [
    {
     "data": {
      "text/html": [],
      "text/plain": [
       "<IPython.core.display.HTML object>"
      ]
     },
     "metadata": {},
     "output_type": "display_data"
    },
    {
     "data": {
      "image/png": "[encoded data removed]",
      "text/plain": [
       "<Figure size 800x500 with 1 Axes>"
      ]
     },
     "metadata": {},
     "output_type": "display_data"
    }
   ],
   "source": [
    "# feature importances\n",
    "plot_model(tuned_gbr, plot='feature')"
   ]
  },
  {
   "cell_type": "markdown",
   "metadata": {},
   "source": [
    "# Evaluation"
   ]
  },
  {
   "cell_type": "markdown",
   "metadata": {},
   "source": [
    "### Avaliação Interativa do Modelo"
   ]
  },
  {
   "cell_type": "code",
   "execution_count": 63,
   "metadata": {},
   "outputs": [
    {
     "data": {
      "application/vnd.jupyter.widget-view+json": {
       "model_id": "66b07fe7d34a4e6f88c2eb021f9d7b16",
       "version_major": 2,
       "version_minor": 0
      },
      "text/plain": [
       "interactive(children=(ToggleButtons(description='Plot Type:', icons=('',), options=(('Pipeline Plot', 'pipelin…"
      ]
     },
     "metadata": {},
     "output_type": "display_data"
    }
   ],
   "source": [
    "# avaliando o modelo\n",
    "evaluate_model(tuned_gbr)"
   ]
  },
  {
   "cell_type": "code",
   "execution_count": 64,
   "metadata": {},
   "outputs": [
    {
     "data": {
      "text/html": [
       "<style type=\"text/css\">\n",
       "</style>\n",
       "<table id=\"T_5eaf0\">\n",
       "  <thead>\n",
       "    <tr>\n",
       "      <th class=\"blank level0\" >&nbsp;</th>\n",
       "      <th id=\"T_5eaf0_level0_col0\" class=\"col_heading level0 col0\" >Model</th>\n",
       "      <th id=\"T_5eaf0_level0_col1\" class=\"col_heading level0 col1\" >MAE</th>\n",
       "      <th id=\"T_5eaf0_level0_col2\" class=\"col_heading level0 col2\" >MSE</th>\n",
       "      <th id=\"T_5eaf0_level0_col3\" class=\"col_heading level0 col3\" >RMSE</th>\n",
       "      <th id=\"T_5eaf0_level0_col4\" class=\"col_heading level0 col4\" >R2</th>\n",
       "      <th id=\"T_5eaf0_level0_col5\" class=\"col_heading level0 col5\" >RMSLE</th>\n",
       "      <th id=\"T_5eaf0_level0_col6\" class=\"col_heading level0 col6\" >MAPE</th>\n",
       "    </tr>\n",
       "  </thead>\n",
       "  <tbody>\n",
       "    <tr>\n",
       "      <th id=\"T_5eaf0_level0_row0\" class=\"row_heading level0 row0\" >0</th>\n",
       "      <td id=\"T_5eaf0_row0_col0\" class=\"data row0 col0\" >Gradient Boosting Regressor</td>\n",
       "      <td id=\"T_5eaf0_row0_col1\" class=\"data row0 col1\" >2499.8542</td>\n",
       "      <td id=\"T_5eaf0_row0_col2\" class=\"data row0 col2\" >20017640.5123</td>\n",
       "      <td id=\"T_5eaf0_row0_col3\" class=\"data row0 col3\" >4474.1078</td>\n",
       "      <td id=\"T_5eaf0_row0_col4\" class=\"data row0 col4\" >0.8678</td>\n",
       "      <td id=\"T_5eaf0_row0_col5\" class=\"data row0 col5\" >0.4098</td>\n",
       "      <td id=\"T_5eaf0_row0_col6\" class=\"data row0 col6\" >0.3390</td>\n",
       "    </tr>\n",
       "  </tbody>\n",
       "</table>\n"
      ],
      "text/plain": [
       "<pandas.io.formats.style.Styler at 0x130125eb0>"
      ]
     },
     "metadata": {},
     "output_type": "display_data"
    }
   ],
   "source": [
    "# fazendo previsões\n",
    "predict_model(tuned_gbr);"
   ]
  },
  {
   "cell_type": "markdown",
   "metadata": {},
   "source": []
  },
  {
   "cell_type": "code",
   "execution_count": 65,
   "metadata": {},
   "outputs": [],
   "source": [
    "# finalizando o modelo\n",
    "final_gbr = finalize_model(tuned_gbr)"
   ]
  },
  {
   "cell_type": "markdown",
   "metadata": {},
   "source": [
    "acima ele usará todos os dados fornecidos ao PyCaret, ao qual ela tinha subdividido em treino e teste"
   ]
  },
  {
   "cell_type": "code",
   "execution_count": 66,
   "metadata": {},
   "outputs": [
    {
     "data": {
      "text/plain": [
       "pycaret.internal.pipeline.Pipeline"
      ]
     },
     "execution_count": 66,
     "metadata": {},
     "output_type": "execute_result"
    }
   ],
   "source": [
    "type(final_gbr)"
   ]
  },
  {
   "cell_type": "code",
   "execution_count": 68,
   "metadata": {},
   "outputs": [
    {
     "data": {
      "text/html": [
       "<style type=\"text/css\">\n",
       "</style>\n",
       "<table id=\"T_ed652\">\n",
       "  <thead>\n",
       "    <tr>\n",
       "      <th class=\"blank level0\" >&nbsp;</th>\n",
       "      <th id=\"T_ed652_level0_col0\" class=\"col_heading level0 col0\" >Model</th>\n",
       "      <th id=\"T_ed652_level0_col1\" class=\"col_heading level0 col1\" >MAE</th>\n",
       "      <th id=\"T_ed652_level0_col2\" class=\"col_heading level0 col2\" >MSE</th>\n",
       "      <th id=\"T_ed652_level0_col3\" class=\"col_heading level0 col3\" >RMSE</th>\n",
       "      <th id=\"T_ed652_level0_col4\" class=\"col_heading level0 col4\" >R2</th>\n",
       "      <th id=\"T_ed652_level0_col5\" class=\"col_heading level0 col5\" >RMSLE</th>\n",
       "      <th id=\"T_ed652_level0_col6\" class=\"col_heading level0 col6\" >MAPE</th>\n",
       "    </tr>\n",
       "  </thead>\n",
       "  <tbody>\n",
       "    <tr>\n",
       "      <th id=\"T_ed652_level0_row0\" class=\"row_heading level0 row0\" >0</th>\n",
       "      <td id=\"T_ed652_row0_col0\" class=\"data row0 col0\" >Gradient Boosting Regressor</td>\n",
       "      <td id=\"T_ed652_row0_col1\" class=\"data row0 col1\" >2006.2090</td>\n",
       "      <td id=\"T_ed652_row0_col2\" class=\"data row0 col2\" >13113912.3853</td>\n",
       "      <td id=\"T_ed652_row0_col3\" class=\"data row0 col3\" >3621.3136</td>\n",
       "      <td id=\"T_ed652_row0_col4\" class=\"data row0 col4\" >0.9111</td>\n",
       "      <td id=\"T_ed652_row0_col5\" class=\"data row0 col5\" >0.3142</td>\n",
       "      <td id=\"T_ed652_row0_col6\" class=\"data row0 col6\" >0.2262</td>\n",
       "    </tr>\n",
       "  </tbody>\n",
       "</table>\n"
      ],
      "text/plain": [
       "<pandas.io.formats.style.Styler at 0x12ff0a310>"
      ]
     },
     "metadata": {},
     "output_type": "display_data"
    }
   ],
   "source": [
    "# analisando a mudança nos resultados\n",
    "pred_holdout = predict_model(final_gbr, data=train)"
   ]
  },
  {
   "cell_type": "code",
   "execution_count": 69,
   "metadata": {},
   "outputs": [
    {
     "name": "stdout",
     "output_type": "stream",
     "text": [
      "Pipeline(memory=Memory(location=None),\n",
      "         steps=[('numerical_imputer',\n",
      "                 TransformerWrapper(include=['age', 'bmi', 'children'],\n",
      "                                    transformer=SimpleImputer())),\n",
      "                ('categorical_imputer',\n",
      "                 TransformerWrapper(include=['sex', 'smoker', 'region'],\n",
      "                                    transformer=SimpleImputer(strategy='most_frequent'))),\n",
      "                ('ordinal_encoding',\n",
      "                 TransformerWrapper(include=['sex', 'smoker'],\n",
      "                                    transfor...\n",
      "                                                                        {'col': 'smoker',\n",
      "                                                                         'data_type': dtype('O'),\n",
      "                                                                         'mapping': no     0\n",
      "yes    1\n",
      "NaN   -1\n",
      "dtype: int64}]))),\n",
      "                ('onehot_encoding',\n",
      "                 TransformerWrapper(include=['region'],\n",
      "                                    transformer=OneHotEncoder(cols=['region'],\n",
      "                                                              handle_missing='return_nan',\n",
      "                                                              use_cat_names=True))),\n",
      "                ('normalize', TransformerWrapper(transformer=StandardScaler())),\n",
      "                ('actual_estimator',\n",
      "                 GradientBoostingRegressor(random_state=7900))])\n"
     ]
    }
   ],
   "source": [
    "# verificando os parâmetros\n",
    "print(final_gbr)"
   ]
  },
  {
   "cell_type": "markdown",
   "metadata": {},
   "source": [
    "### Prevendo em novos dados\n"
   ]
  },
  {
   "cell_type": "code",
   "execution_count": 70,
   "metadata": {},
   "outputs": [
    {
     "data": {
      "text/html": [
       "<style type=\"text/css\">\n",
       "</style>\n",
       "<table id=\"T_b20a8\">\n",
       "  <thead>\n",
       "    <tr>\n",
       "      <th class=\"blank level0\" >&nbsp;</th>\n",
       "      <th id=\"T_b20a8_level0_col0\" class=\"col_heading level0 col0\" >Model</th>\n",
       "      <th id=\"T_b20a8_level0_col1\" class=\"col_heading level0 col1\" >MAE</th>\n",
       "      <th id=\"T_b20a8_level0_col2\" class=\"col_heading level0 col2\" >MSE</th>\n",
       "      <th id=\"T_b20a8_level0_col3\" class=\"col_heading level0 col3\" >RMSE</th>\n",
       "      <th id=\"T_b20a8_level0_col4\" class=\"col_heading level0 col4\" >R2</th>\n",
       "      <th id=\"T_b20a8_level0_col5\" class=\"col_heading level0 col5\" >RMSLE</th>\n",
       "      <th id=\"T_b20a8_level0_col6\" class=\"col_heading level0 col6\" >MAPE</th>\n",
       "    </tr>\n",
       "  </thead>\n",
       "  <tbody>\n",
       "    <tr>\n",
       "      <th id=\"T_b20a8_level0_row0\" class=\"row_heading level0 row0\" >0</th>\n",
       "      <td id=\"T_b20a8_row0_col0\" class=\"data row0 col0\" >Gradient Boosting Regressor</td>\n",
       "      <td id=\"T_b20a8_row0_col1\" class=\"data row0 col1\" >2471.3609</td>\n",
       "      <td id=\"T_b20a8_row0_col2\" class=\"data row0 col2\" >20580580.9918</td>\n",
       "      <td id=\"T_b20a8_row0_col3\" class=\"data row0 col3\" >4536.5825</td>\n",
       "      <td id=\"T_b20a8_row0_col4\" class=\"data row0 col4\" >0.8572</td>\n",
       "      <td id=\"T_b20a8_row0_col5\" class=\"data row0 col5\" >0.4402</td>\n",
       "      <td id=\"T_b20a8_row0_col6\" class=\"data row0 col6\" >0.2703</td>\n",
       "    </tr>\n",
       "  </tbody>\n",
       "</table>\n"
      ],
      "text/plain": [
       "<pandas.io.formats.style.Styler at 0x120f5c1c0>"
      ]
     },
     "metadata": {},
     "output_type": "display_data"
    },
    {
     "data": {
      "text/html": [
       "<div>\n",
       "<style scoped>\n",
       "    .dataframe tbody tr th:only-of-type {\n",
       "        vertical-align: middle;\n",
       "    }\n",
       "\n",
       "    .dataframe tbody tr th {\n",
       "        vertical-align: top;\n",
       "    }\n",
       "\n",
       "    .dataframe thead th {\n",
       "        text-align: right;\n",
       "    }\n",
       "</style>\n",
       "<table border=\"1\" class=\"dataframe\">\n",
       "  <thead>\n",
       "    <tr style=\"text-align: right;\">\n",
       "      <th></th>\n",
       "      <th>age</th>\n",
       "      <th>sex</th>\n",
       "      <th>bmi</th>\n",
       "      <th>children</th>\n",
       "      <th>smoker</th>\n",
       "      <th>region</th>\n",
       "      <th>charges</th>\n",
       "      <th>prediction_label</th>\n",
       "    </tr>\n",
       "  </thead>\n",
       "  <tbody>\n",
       "    <tr>\n",
       "      <th>0</th>\n",
       "      <td>19</td>\n",
       "      <td>female</td>\n",
       "      <td>32.900002</td>\n",
       "      <td>0</td>\n",
       "      <td>no</td>\n",
       "      <td>southwest</td>\n",
       "      <td>1748.774048</td>\n",
       "      <td>1931.445211</td>\n",
       "    </tr>\n",
       "    <tr>\n",
       "      <th>1</th>\n",
       "      <td>58</td>\n",
       "      <td>female</td>\n",
       "      <td>32.965000</td>\n",
       "      <td>0</td>\n",
       "      <td>no</td>\n",
       "      <td>northeast</td>\n",
       "      <td>12430.953125</td>\n",
       "      <td>12689.991488</td>\n",
       "    </tr>\n",
       "    <tr>\n",
       "      <th>2</th>\n",
       "      <td>33</td>\n",
       "      <td>female</td>\n",
       "      <td>24.309999</td>\n",
       "      <td>0</td>\n",
       "      <td>no</td>\n",
       "      <td>southeast</td>\n",
       "      <td>4185.097656</td>\n",
       "      <td>6832.879417</td>\n",
       "    </tr>\n",
       "    <tr>\n",
       "      <th>3</th>\n",
       "      <td>60</td>\n",
       "      <td>male</td>\n",
       "      <td>28.900000</td>\n",
       "      <td>0</td>\n",
       "      <td>no</td>\n",
       "      <td>southwest</td>\n",
       "      <td>12146.970703</td>\n",
       "      <td>13737.876024</td>\n",
       "    </tr>\n",
       "    <tr>\n",
       "      <th>4</th>\n",
       "      <td>27</td>\n",
       "      <td>female</td>\n",
       "      <td>24.100000</td>\n",
       "      <td>0</td>\n",
       "      <td>no</td>\n",
       "      <td>southwest</td>\n",
       "      <td>2974.125977</td>\n",
       "      <td>6270.700823</td>\n",
       "    </tr>\n",
       "  </tbody>\n",
       "</table>\n",
       "</div>"
      ],
      "text/plain": [
       "   age     sex        bmi  children smoker     region       charges  \\\n",
       "0   19  female  32.900002         0     no  southwest   1748.774048   \n",
       "1   58  female  32.965000         0     no  northeast  12430.953125   \n",
       "2   33  female  24.309999         0     no  southeast   4185.097656   \n",
       "3   60    male  28.900000         0     no  southwest  12146.970703   \n",
       "4   27  female  24.100000         0     no  southwest   2974.125977   \n",
       "\n",
       "   prediction_label  \n",
       "0       1931.445211  \n",
       "1      12689.991488  \n",
       "2       6832.879417  \n",
       "3      13737.876024  \n",
       "4       6270.700823  "
      ]
     },
     "execution_count": 70,
     "metadata": {},
     "output_type": "execute_result"
    }
   ],
   "source": [
    "# previsão em dados não vistos\n",
    "unseen_predictions = predict_model(final_gbr, data=test)\n",
    "unseen_predictions.head()"
   ]
  },
  {
   "cell_type": "markdown",
   "metadata": {},
   "source": [
    "### Salvando o modelo"
   ]
  },
  {
   "cell_type": "markdown",
   "metadata": {},
   "source": [
    "# salvando o modelo\n"
   ]
  },
  {
   "cell_type": "code",
   "execution_count": null,
   "metadata": {},
   "outputs": [],
   "source": [
    "save_model(final_gbr,'Modelo_Final_026_02_25')"
   ]
  },
  {
   "cell_type": "markdown",
   "metadata": {},
   "source": []
  },
  {
   "cell_type": "markdown",
   "metadata": {},
   "source": [
    "### Carregando um modelo"
   ]
  },
  {
   "cell_type": "markdown",
   "metadata": {},
   "source": []
  },
  {
   "cell_type": "code",
   "execution_count": 73,
   "metadata": {},
   "outputs": [
    {
     "name": "stdout",
     "output_type": "stream",
     "text": [
      "Transformation Pipeline and Model Successfully Loaded\n"
     ]
    }
   ],
   "source": [
    "# carregando um modelo salvo\n",
    "saved_final_gbr = load_model('Modelo_Final_026_02_25')"
   ]
  },
  {
   "cell_type": "markdown",
   "metadata": {},
   "source": [
    "### fazendo novas previsões com o modelo salvo"
   ]
  },
  {
   "cell_type": "code",
   "execution_count": 74,
   "metadata": {},
   "outputs": [
    {
     "data": {
      "text/html": [
       "<style type=\"text/css\">\n",
       "</style>\n",
       "<table id=\"T_7b8b9\">\n",
       "  <thead>\n",
       "    <tr>\n",
       "      <th class=\"blank level0\" >&nbsp;</th>\n",
       "      <th id=\"T_7b8b9_level0_col0\" class=\"col_heading level0 col0\" >Model</th>\n",
       "      <th id=\"T_7b8b9_level0_col1\" class=\"col_heading level0 col1\" >MAE</th>\n",
       "      <th id=\"T_7b8b9_level0_col2\" class=\"col_heading level0 col2\" >MSE</th>\n",
       "      <th id=\"T_7b8b9_level0_col3\" class=\"col_heading level0 col3\" >RMSE</th>\n",
       "      <th id=\"T_7b8b9_level0_col4\" class=\"col_heading level0 col4\" >R2</th>\n",
       "      <th id=\"T_7b8b9_level0_col5\" class=\"col_heading level0 col5\" >RMSLE</th>\n",
       "      <th id=\"T_7b8b9_level0_col6\" class=\"col_heading level0 col6\" >MAPE</th>\n",
       "    </tr>\n",
       "  </thead>\n",
       "  <tbody>\n",
       "    <tr>\n",
       "      <th id=\"T_7b8b9_level0_row0\" class=\"row_heading level0 row0\" >0</th>\n",
       "      <td id=\"T_7b8b9_row0_col0\" class=\"data row0 col0\" >Gradient Boosting Regressor</td>\n",
       "      <td id=\"T_7b8b9_row0_col1\" class=\"data row0 col1\" >2471.3609</td>\n",
       "      <td id=\"T_7b8b9_row0_col2\" class=\"data row0 col2\" >20580580.9918</td>\n",
       "      <td id=\"T_7b8b9_row0_col3\" class=\"data row0 col3\" >4536.5825</td>\n",
       "      <td id=\"T_7b8b9_row0_col4\" class=\"data row0 col4\" >0.8572</td>\n",
       "      <td id=\"T_7b8b9_row0_col5\" class=\"data row0 col5\" >0.4402</td>\n",
       "      <td id=\"T_7b8b9_row0_col6\" class=\"data row0 col6\" >0.2703</td>\n",
       "    </tr>\n",
       "  </tbody>\n",
       "</table>\n"
      ],
      "text/plain": [
       "<pandas.io.formats.style.Styler at 0x13011f490>"
      ]
     },
     "metadata": {},
     "output_type": "display_data"
    },
    {
     "data": {
      "text/html": [
       "<div>\n",
       "<style scoped>\n",
       "    .dataframe tbody tr th:only-of-type {\n",
       "        vertical-align: middle;\n",
       "    }\n",
       "\n",
       "    .dataframe tbody tr th {\n",
       "        vertical-align: top;\n",
       "    }\n",
       "\n",
       "    .dataframe thead th {\n",
       "        text-align: right;\n",
       "    }\n",
       "</style>\n",
       "<table border=\"1\" class=\"dataframe\">\n",
       "  <thead>\n",
       "    <tr style=\"text-align: right;\">\n",
       "      <th></th>\n",
       "      <th>age</th>\n",
       "      <th>sex</th>\n",
       "      <th>bmi</th>\n",
       "      <th>children</th>\n",
       "      <th>smoker</th>\n",
       "      <th>region</th>\n",
       "      <th>charges</th>\n",
       "      <th>prediction_label</th>\n",
       "    </tr>\n",
       "  </thead>\n",
       "  <tbody>\n",
       "    <tr>\n",
       "      <th>0</th>\n",
       "      <td>19</td>\n",
       "      <td>female</td>\n",
       "      <td>32.900002</td>\n",
       "      <td>0</td>\n",
       "      <td>no</td>\n",
       "      <td>southwest</td>\n",
       "      <td>1748.774048</td>\n",
       "      <td>1931.445211</td>\n",
       "    </tr>\n",
       "    <tr>\n",
       "      <th>1</th>\n",
       "      <td>58</td>\n",
       "      <td>female</td>\n",
       "      <td>32.965000</td>\n",
       "      <td>0</td>\n",
       "      <td>no</td>\n",
       "      <td>northeast</td>\n",
       "      <td>12430.953125</td>\n",
       "      <td>12689.991488</td>\n",
       "    </tr>\n",
       "    <tr>\n",
       "      <th>2</th>\n",
       "      <td>33</td>\n",
       "      <td>female</td>\n",
       "      <td>24.309999</td>\n",
       "      <td>0</td>\n",
       "      <td>no</td>\n",
       "      <td>southeast</td>\n",
       "      <td>4185.097656</td>\n",
       "      <td>6832.879417</td>\n",
       "    </tr>\n",
       "    <tr>\n",
       "      <th>3</th>\n",
       "      <td>60</td>\n",
       "      <td>male</td>\n",
       "      <td>28.900000</td>\n",
       "      <td>0</td>\n",
       "      <td>no</td>\n",
       "      <td>southwest</td>\n",
       "      <td>12146.970703</td>\n",
       "      <td>13737.876024</td>\n",
       "    </tr>\n",
       "    <tr>\n",
       "      <th>4</th>\n",
       "      <td>27</td>\n",
       "      <td>female</td>\n",
       "      <td>24.100000</td>\n",
       "      <td>0</td>\n",
       "      <td>no</td>\n",
       "      <td>southwest</td>\n",
       "      <td>2974.125977</td>\n",
       "      <td>6270.700823</td>\n",
       "    </tr>\n",
       "  </tbody>\n",
       "</table>\n",
       "</div>"
      ],
      "text/plain": [
       "   age     sex        bmi  children smoker     region       charges  \\\n",
       "0   19  female  32.900002         0     no  southwest   1748.774048   \n",
       "1   58  female  32.965000         0     no  northeast  12430.953125   \n",
       "2   33  female  24.309999         0     no  southeast   4185.097656   \n",
       "3   60    male  28.900000         0     no  southwest  12146.970703   \n",
       "4   27  female  24.100000         0     no  southwest   2974.125977   \n",
       "\n",
       "   prediction_label  \n",
       "0       1931.445211  \n",
       "1      12689.991488  \n",
       "2       6832.879417  \n",
       "3      13737.876024  \n",
       "4       6270.700823  "
      ]
     },
     "execution_count": 74,
     "metadata": {},
     "output_type": "execute_result"
    }
   ],
   "source": [
    "# fazendo previsões com o modelo salvo\n",
    "new_prediction = predict_model(saved_final_gbr, data=test)\n",
    "new_prediction.head()"
   ]
  }
 ],
 "metadata": {
  "kernelspec": {
   "display_name": "venv_regression",
   "language": "python",
   "name": "python3"
  },
  "language_info": {
   "codemirror_mode": {
    "name": "ipython",
    "version": 3
   },
   "file_extension": ".py",
   "mimetype": "text/x-python",
   "name": "python",
   "nbconvert_exporter": "python",
   "pygments_lexer": "ipython3",
   "version": "3.9.6"
  }
 },
 "nbformat": 4,
 "nbformat_minor": 2
}
